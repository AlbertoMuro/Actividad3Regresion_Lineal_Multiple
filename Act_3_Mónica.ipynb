{
  "cells": [
    {
      "cell_type": "code",
      "execution_count": 4,
      "metadata": {
        "id": "g2bQLoFdc6lj"
      },
      "outputs": [],
      "source": [
        "import pandas as pd\n",
        "import numpy as np\n",
        "import matplotlib.pyplot as plt\n",
        "#from google.colab import files\n",
        "import seaborn as sns\n",
        "from sklearn.linear_model import LinearRegression\n",
        "from turtle import color\n",
        "import statsmodels.api as sm\n",
        "from sklearn.model_selection import train_test_split\n",
        "from sklearn.metrics import r2_score"
      ]
    },
    {
      "cell_type": "code",
      "execution_count": 5,
      "metadata": {
        "colab": {
          "base_uri": "https://localhost:8080/"
        },
        "id": "menyZ56gi2Q3",
        "outputId": "19ddc1a9-3e51-46f3-81e1-28a9cb20b8f4"
      },
      "outputs": [
        {
          "name": "stdout",
          "output_type": "stream",
          "text": [
            "<class 'pandas.core.frame.DataFrame'>\n",
            "RangeIndex: 22735 entries, 0 to 22734\n",
            "Data columns (total 39 columns):\n",
            " #   Column              Non-Null Count  Dtype         \n",
            "---  ------              --------------  -----         \n",
            " 0   folio               22735 non-null  int64         \n",
            " 1   tag                 22735 non-null  object        \n",
            " 2   folio_solicitud     22735 non-null  int64         \n",
            " 3   fecha               22735 non-null  datetime64[ns]\n",
            " 4   marca               22735 non-null  object        \n",
            " 5   modelo              22735 non-null  object        \n",
            " 6   plazo               22735 non-null  object        \n",
            " 7   precio              22735 non-null  float64       \n",
            " 8   enganche            22735 non-null  float64       \n",
            " 9   descuento           22735 non-null  float64       \n",
            " 10  semana              22735 non-null  int64         \n",
            " 11  monto_financiado    22735 non-null  float64       \n",
            " 12  costo_total         22735 non-null  int64         \n",
            " 13  monto_accesorios    22735 non-null  float64       \n",
            " 14  agente_venta        22735 non-null  object        \n",
            " 15  dis_venta           22735 non-null  object        \n",
            " 16  status              22735 non-null  int64         \n",
            " 17  fraude              22735 non-null  int64         \n",
            " 18  empresa             22722 non-null  object        \n",
            " 19  inversion           22735 non-null  int64         \n",
            " 20  pagos_realizados    22735 non-null  int64         \n",
            " 21  reautorizacion      22735 non-null  int64         \n",
            " 22  fecha_ultimo_pago   19379 non-null  datetime64[ns]\n",
            " 23  fecha_pago_proximo  19379 non-null  datetime64[ns]\n",
            " 24  status_cuenta       19421 non-null  object        \n",
            " 25  puntos              22735 non-null  int64         \n",
            " 26  riesgo              22735 non-null  float64       \n",
            " 27  score_buro          22735 non-null  int64         \n",
            " 28  razones_buro        15395 non-null  object        \n",
            " 29  porc_eng            22735 non-null  float64       \n",
            " 30  limite_credito      22735 non-null  int64         \n",
            " 31  semana_actual       22735 non-null  int64         \n",
            " 32  cp_cliente          15492 non-null  object        \n",
            " 33  edad_cliente        9627 non-null   float64       \n",
            " 34  cd_cliente          22735 non-null  object        \n",
            " 35  edo_cliente         22735 non-null  object        \n",
            " 36  cd_venta            22735 non-null  object        \n",
            " 37  edo_venta           22735 non-null  object        \n",
            " 38  curp                22735 non-null  object        \n",
            "dtypes: datetime64[ns](3), float64(8), int64(13), object(15)\n",
            "memory usage: 6.8+ MB\n"
          ]
        }
      ],
      "source": [
        "# Cargar el archivo CSV y obtener su contenido\n",
        "import pandas as pd\n",
        "\n",
        "# Load the Excel file into a DataFrame\n",
        "credicel = pd.read_excel('df_limpio.xlsx')\n",
        "\n",
        "# Get information about the DataFrame\n",
        "credicel.info()\n"
      ]
    },
    {
      "cell_type": "code",
      "execution_count": 6,
      "metadata": {
        "colab": {
          "base_uri": "https://localhost:8080/"
        },
        "id": "kUJonaj5u0M7",
        "outputId": "58ce3858-d8ba-478d-86a7-b5ee186c99a1"
      },
      "outputs": [
        {
          "data": {
            "text/plain": [
              "folio                     0\n",
              "tag                       0\n",
              "folio_solicitud           0\n",
              "fecha                     0\n",
              "marca                     0\n",
              "modelo                    0\n",
              "plazo                     0\n",
              "precio                    0\n",
              "enganche                  0\n",
              "descuento                 0\n",
              "semana                    0\n",
              "monto_financiado          0\n",
              "costo_total               0\n",
              "monto_accesorios          0\n",
              "agente_venta              0\n",
              "dis_venta                 0\n",
              "status                    0\n",
              "fraude                    0\n",
              "empresa                  13\n",
              "inversion                 0\n",
              "pagos_realizados          0\n",
              "reautorizacion            0\n",
              "fecha_ultimo_pago      3356\n",
              "fecha_pago_proximo     3356\n",
              "status_cuenta          3314\n",
              "puntos                    0\n",
              "riesgo                    0\n",
              "score_buro                0\n",
              "razones_buro           7340\n",
              "porc_eng                  0\n",
              "limite_credito            0\n",
              "semana_actual             0\n",
              "cp_cliente             7243\n",
              "edad_cliente          13108\n",
              "cd_cliente                0\n",
              "edo_cliente               0\n",
              "cd_venta                  0\n",
              "edo_venta                 0\n",
              "curp                      0\n",
              "dtype: int64"
            ]
          },
          "execution_count": 6,
          "metadata": {},
          "output_type": "execute_result"
        }
      ],
      "source": [
        "valores_nulos=credicel.isnull().sum()\n",
        "valores_nulos"
      ]
    },
    {
      "cell_type": "code",
      "execution_count": 7,
      "metadata": {
        "id": "EY01w9qcveG5"
      },
      "outputs": [],
      "source": [
        "#Cuarto método de sustitución de valores nulos\n",
        "#Sustituir valores nulos por un string en  concreto\n",
        "credicel[\"empresa\"] =credicel[\"empresa\"].fillna(\"Sin Especificar\")"
      ]
    },
    {
      "cell_type": "code",
      "execution_count": 8,
      "metadata": {
        "colab": {
          "base_uri": "https://localhost:8080/"
        },
        "id": "6qQdkCrbwQ9X",
        "outputId": "0f6376cd-1b1a-4723-d3df-085e3fe0b1b8"
      },
      "outputs": [
        {
          "data": {
            "text/plain": [
              "folio                     0\n",
              "tag                       0\n",
              "folio_solicitud           0\n",
              "fecha                     0\n",
              "marca                     0\n",
              "modelo                    0\n",
              "plazo                     0\n",
              "precio                    0\n",
              "enganche                  0\n",
              "descuento                 0\n",
              "semana                    0\n",
              "monto_financiado          0\n",
              "costo_total               0\n",
              "monto_accesorios          0\n",
              "agente_venta              0\n",
              "dis_venta                 0\n",
              "status                    0\n",
              "fraude                    0\n",
              "empresa                   0\n",
              "inversion                 0\n",
              "pagos_realizados          0\n",
              "reautorizacion            0\n",
              "fecha_ultimo_pago      3356\n",
              "fecha_pago_proximo     3356\n",
              "status_cuenta          3314\n",
              "puntos                    0\n",
              "riesgo                    0\n",
              "score_buro                0\n",
              "razones_buro           7340\n",
              "porc_eng                  0\n",
              "limite_credito            0\n",
              "semana_actual             0\n",
              "cp_cliente             7243\n",
              "edad_cliente          13108\n",
              "cd_cliente                0\n",
              "edo_cliente               0\n",
              "cd_venta                  0\n",
              "edo_venta                 0\n",
              "curp                      0\n",
              "dtype: int64"
            ]
          },
          "execution_count": 8,
          "metadata": {},
          "output_type": "execute_result"
        }
      ],
      "source": [
        "valores_nulos=credicel.isnull().sum()\n",
        "valores_nulos"
      ]
    },
    {
      "cell_type": "code",
      "execution_count": 9,
      "metadata": {
        "id": "PSfocxz9wTNo"
      },
      "outputs": [],
      "source": [
        "#Cuarto método de sustitución de valores nulos\n",
        "#Sustituir valores nulos por un string en  concreto\n",
        "credicel[\"fecha_ultimo_pago\"] =credicel[\"fecha_ultimo_pago\"].fillna(\"2030-06-19 00:00:00\")\n",
        "credicel[\"fecha_pago_proximo\"] = credicel[\"fecha_pago_proximo\"].fillna(\"2030-06-19 00:00:00\")\n",
        "credicel[\"status_cuenta\"] = credicel[\"status_cuenta\"].fillna(\"Sin Especificar\")\n",
        "credicel[\"razones_buro\"] = credicel[\"razones_buro\"].fillna(\"N/A\")\n",
        "\n",
        "credicel[\"cp_cliente\"] =credicel[\"cp_cliente\"].fillna(method=\"bfill\")\n",
        "\n",
        "credicel[\"edad_cliente\"]=credicel[\"edad_cliente\"].fillna(round(credicel[\"edad_cliente\"].mean(),1))"
      ]
    },
    {
      "cell_type": "code",
      "execution_count": 10,
      "metadata": {
        "colab": {
          "base_uri": "https://localhost:8080/"
        },
        "id": "WDO5ROclw6hC",
        "outputId": "67c1c2d3-b44a-4b7a-9ae8-10615a5a63a3"
      },
      "outputs": [
        {
          "data": {
            "text/plain": [
              "folio                 0\n",
              "tag                   0\n",
              "folio_solicitud       0\n",
              "fecha                 0\n",
              "marca                 0\n",
              "modelo                0\n",
              "plazo                 0\n",
              "precio                0\n",
              "enganche              0\n",
              "descuento             0\n",
              "semana                0\n",
              "monto_financiado      0\n",
              "costo_total           0\n",
              "monto_accesorios      0\n",
              "agente_venta          0\n",
              "dis_venta             0\n",
              "status                0\n",
              "fraude                0\n",
              "empresa               0\n",
              "inversion             0\n",
              "pagos_realizados      0\n",
              "reautorizacion        0\n",
              "fecha_ultimo_pago     0\n",
              "fecha_pago_proximo    0\n",
              "status_cuenta         0\n",
              "puntos                0\n",
              "riesgo                0\n",
              "score_buro            0\n",
              "razones_buro          0\n",
              "porc_eng              0\n",
              "limite_credito        0\n",
              "semana_actual         0\n",
              "cp_cliente            0\n",
              "edad_cliente          0\n",
              "cd_cliente            0\n",
              "edo_cliente           0\n",
              "cd_venta              0\n",
              "edo_venta             0\n",
              "curp                  0\n",
              "dtype: int64"
            ]
          },
          "execution_count": 10,
          "metadata": {},
          "output_type": "execute_result"
        }
      ],
      "source": [
        "valores_nulos=credicel.isnull().sum()\n",
        "valores_nulos"
      ]
    },
    {
      "cell_type": "markdown",
      "metadata": {
        "id": "yIMuFyaL10km"
      },
      "source": [
        "# Análisis de Regresión: Precio"
      ]
    },
    {
      "cell_type": "code",
      "execution_count": 11,
      "metadata": {
        "id": "n3OmZySfnNTr"
      },
      "outputs": [],
      "source": [
        "#Declaramos las variables dependientes e independientes para la regresión linea\n",
        "x_precio=credicel[['descuento', 'semana','monto_accesorios','status','fraude','inversion','reautorizacion','puntos','score_buro','limite_credito','semana_actual','edad_cliente']]\n",
        "y_precio=credicel['precio']"
      ]
    },
    {
      "cell_type": "code",
      "execution_count": 12,
      "metadata": {
        "id": "Vq5I5RC2uKa2"
      },
      "outputs": [],
      "source": [
        "#Dividimos los datos por training y tests\n",
        "x_train, x_test, y_train, y_test = train_test_split(x_precio, y_precio, test_size=0.2, random_state=42)"
      ]
    },
    {
      "cell_type": "code",
      "execution_count": 13,
      "metadata": {
        "colab": {
          "base_uri": "https://localhost:8080/",
          "height": 74
        },
        "id": "F-4_1e1CubLm",
        "outputId": "cfc9d9f1-8c12-4584-f184-495ba11b7786"
      },
      "outputs": [
        {
          "data": {
            "text/html": [
              "<style>#sk-container-id-1 {color: black;}#sk-container-id-1 pre{padding: 0;}#sk-container-id-1 div.sk-toggleable {background-color: white;}#sk-container-id-1 label.sk-toggleable__label {cursor: pointer;display: block;width: 100%;margin-bottom: 0;padding: 0.3em;box-sizing: border-box;text-align: center;}#sk-container-id-1 label.sk-toggleable__label-arrow:before {content: \"▸\";float: left;margin-right: 0.25em;color: #696969;}#sk-container-id-1 label.sk-toggleable__label-arrow:hover:before {color: black;}#sk-container-id-1 div.sk-estimator:hover label.sk-toggleable__label-arrow:before {color: black;}#sk-container-id-1 div.sk-toggleable__content {max-height: 0;max-width: 0;overflow: hidden;text-align: left;background-color: #f0f8ff;}#sk-container-id-1 div.sk-toggleable__content pre {margin: 0.2em;color: black;border-radius: 0.25em;background-color: #f0f8ff;}#sk-container-id-1 input.sk-toggleable__control:checked~div.sk-toggleable__content {max-height: 200px;max-width: 100%;overflow: auto;}#sk-container-id-1 input.sk-toggleable__control:checked~label.sk-toggleable__label-arrow:before {content: \"▾\";}#sk-container-id-1 div.sk-estimator input.sk-toggleable__control:checked~label.sk-toggleable__label {background-color: #d4ebff;}#sk-container-id-1 div.sk-label input.sk-toggleable__control:checked~label.sk-toggleable__label {background-color: #d4ebff;}#sk-container-id-1 input.sk-hidden--visually {border: 0;clip: rect(1px 1px 1px 1px);clip: rect(1px, 1px, 1px, 1px);height: 1px;margin: -1px;overflow: hidden;padding: 0;position: absolute;width: 1px;}#sk-container-id-1 div.sk-estimator {font-family: monospace;background-color: #f0f8ff;border: 1px dotted black;border-radius: 0.25em;box-sizing: border-box;margin-bottom: 0.5em;}#sk-container-id-1 div.sk-estimator:hover {background-color: #d4ebff;}#sk-container-id-1 div.sk-parallel-item::after {content: \"\";width: 100%;border-bottom: 1px solid gray;flex-grow: 1;}#sk-container-id-1 div.sk-label:hover label.sk-toggleable__label {background-color: #d4ebff;}#sk-container-id-1 div.sk-serial::before {content: \"\";position: absolute;border-left: 1px solid gray;box-sizing: border-box;top: 0;bottom: 0;left: 50%;z-index: 0;}#sk-container-id-1 div.sk-serial {display: flex;flex-direction: column;align-items: center;background-color: white;padding-right: 0.2em;padding-left: 0.2em;position: relative;}#sk-container-id-1 div.sk-item {position: relative;z-index: 1;}#sk-container-id-1 div.sk-parallel {display: flex;align-items: stretch;justify-content: center;background-color: white;position: relative;}#sk-container-id-1 div.sk-item::before, #sk-container-id-1 div.sk-parallel-item::before {content: \"\";position: absolute;border-left: 1px solid gray;box-sizing: border-box;top: 0;bottom: 0;left: 50%;z-index: -1;}#sk-container-id-1 div.sk-parallel-item {display: flex;flex-direction: column;z-index: 1;position: relative;background-color: white;}#sk-container-id-1 div.sk-parallel-item:first-child::after {align-self: flex-end;width: 50%;}#sk-container-id-1 div.sk-parallel-item:last-child::after {align-self: flex-start;width: 50%;}#sk-container-id-1 div.sk-parallel-item:only-child::after {width: 0;}#sk-container-id-1 div.sk-dashed-wrapped {border: 1px dashed gray;margin: 0 0.4em 0.5em 0.4em;box-sizing: border-box;padding-bottom: 0.4em;background-color: white;}#sk-container-id-1 div.sk-label label {font-family: monospace;font-weight: bold;display: inline-block;line-height: 1.2em;}#sk-container-id-1 div.sk-label-container {text-align: center;}#sk-container-id-1 div.sk-container {/* jupyter's `normalize.less` sets `[hidden] { display: none; }` but bootstrap.min.css set `[hidden] { display: none !important; }` so we also need the `!important` here to be able to override the default hidden behavior on the sphinx rendered scikit-learn.org. See: https://github.com/scikit-learn/scikit-learn/issues/21755 */display: inline-block !important;position: relative;}#sk-container-id-1 div.sk-text-repr-fallback {display: none;}</style><div id=\"sk-container-id-1\" class=\"sk-top-container\"><div class=\"sk-text-repr-fallback\"><pre>LinearRegression()</pre><b>In a Jupyter environment, please rerun this cell to show the HTML representation or trust the notebook. <br />On GitHub, the HTML representation is unable to render, please try loading this page with nbviewer.org.</b></div><div class=\"sk-container\" hidden><div class=\"sk-item\"><div class=\"sk-estimator sk-toggleable\"><input class=\"sk-toggleable__control sk-hidden--visually\" id=\"sk-estimator-id-1\" type=\"checkbox\" checked><label for=\"sk-estimator-id-1\" class=\"sk-toggleable__label sk-toggleable__label-arrow\">LinearRegression</label><div class=\"sk-toggleable__content\"><pre>LinearRegression()</pre></div></div></div></div></div>"
            ],
            "text/plain": [
              "LinearRegression()"
            ]
          },
          "execution_count": 13,
          "metadata": {},
          "output_type": "execute_result"
        }
      ],
      "source": [
        "# Creamos el modelo de regresión\n",
        "model = LinearRegression()\n",
        "\n",
        "model.fit(x_train, y_train)"
      ]
    },
    {
      "cell_type": "code",
      "execution_count": 14,
      "metadata": {
        "colab": {
          "base_uri": "https://localhost:8080/"
        },
        "id": "AecctESnx4d6",
        "outputId": "a36ccd42-c415-4901-8986-bf63c625cedf"
      },
      "outputs": [
        {
          "name": "stdout",
          "output_type": "stream",
          "text": [
            "Coeficientes: [ 3.64504747e-01  9.68171138e+00 -4.62758835e-02 -5.44700189e+02\n",
            " -2.34378752e+01 -7.54540694e+01  7.81022537e+01  5.35371352e+00\n",
            "  2.42661643e-01 -2.90978264e-02  1.32428405e+01 -3.38919212e+00]\n",
            "Intercepto: 2239.529925863191\n"
          ]
        }
      ],
      "source": [
        "# Calculamos los coeficientes por cada una de las variables\n",
        "coeficientes = model.coef_\n",
        "\n",
        "# Intercepto\n",
        "intercepto = model.intercept_\n",
        "\n",
        "# Imprimimos los coeficientes y el intercepto\n",
        "print(\"Coeficientes:\", coeficientes)\n",
        "print(\"Intercepto:\", intercepto)\n"
      ]
    },
    {
      "cell_type": "markdown",
      "metadata": {
        "id": "1A0QGHfhytzs"
      },
      "source": [
        "Variables con un mayor coeficiente:\n",
        "\n",
        "1.   Reautorización: 78.10\n",
        "2.   Status: -544.70\n",
        "\n"
      ]
    },
    {
      "cell_type": "code",
      "execution_count": 15,
      "metadata": {
        "colab": {
          "base_uri": "https://localhost:8080/"
        },
        "id": "ICahHf9uyP-E",
        "outputId": "6b240153-1746-4f4c-d7c4-f19c4dd86514"
      },
      "outputs": [
        {
          "name": "stdout",
          "output_type": "stream",
          "text": [
            "R-squared (R2) score: 0.5257542087094372\n"
          ]
        }
      ],
      "source": [
        "# Hacemos predicciones\n",
        "y_pred = model.predict(x_test)\n",
        "\n",
        "# Calculate the R-squared score\n",
        "r2 = r2_score(y_test, y_pred)\n",
        "print(\"R-squared (R2) score:\", r2)\n"
      ]
    },
    {
      "cell_type": "code",
      "execution_count": 16,
      "metadata": {
        "colab": {
          "base_uri": "https://localhost:8080/"
        },
        "id": "kdWhOC-5yq0n",
        "outputId": "58276e88-3192-4da3-ff77-a5725fd25e08"
      },
      "outputs": [
        {
          "data": {
            "text/plain": [
              "{'fit_intercept': True,\n",
              " 'copy_X': True,\n",
              " 'n_jobs': None,\n",
              " 'positive': False,\n",
              " 'feature_names_in_': array(['descuento', 'semana', 'monto_accesorios', 'status', 'fraude',\n",
              "        'inversion', 'reautorizacion', 'puntos', 'score_buro',\n",
              "        'limite_credito', 'semana_actual', 'edad_cliente'], dtype=object),\n",
              " 'n_features_in_': 12,\n",
              " 'coef_': array([ 3.64504747e-01,  9.68171138e+00, -4.62758835e-02, -5.44700189e+02,\n",
              "        -2.34378752e+01, -7.54540694e+01,  7.81022537e+01,  5.35371352e+00,\n",
              "         2.42661643e-01, -2.90978264e-02,  1.32428405e+01, -3.38919212e+00]),\n",
              " 'rank_': 12,\n",
              " 'singular_': array([2.87962228e+05, 3.79424243e+04, 1.78137513e+04, 1.34434657e+04,\n",
              "        7.94214588e+03, 1.66028926e+03, 1.27047198e+03, 1.08046016e+03,\n",
              "        5.92473691e+01, 5.35276554e+01, 3.40487059e+01, 2.17206426e+01]),\n",
              " 'intercept_': 2239.529925863191}"
            ]
          },
          "execution_count": 16,
          "metadata": {},
          "output_type": "execute_result"
        }
      ],
      "source": [
        "#Verificamos los coeficientes obtenidos para el modelo ajustado\n",
        "model.__dict__"
      ]
    },
    {
      "cell_type": "markdown",
      "metadata": {
        "id": "Qa91c4RBzcjY"
      },
      "source": [
        "# Modelo:\n",
        "\n",
        "precio = 2239.53 + (0.3645×descuento) + (9.6817×semana) + (−0.0463×monto_accesorios) + (−544.70×status) + (−23.44×fraude) + (−75.45×inversion) + (78.10×reautorizacion) + (5.35×puntos) + (−23.44×fraude) + (−75.45×inversion) + (78.10×reautorizacion) + (5.35×puntos) + (0.2427×score_buro) + (−0.0291×limite_credito) + (13.24×semana_actual) + (−3.39×edad_cliente) + (0.2427×score_buro) + (−0.0291×limite_credito) + (13.24×semana_actual) + (−3.39×edad_cliente)"
      ]
    },
    {
      "cell_type": "code",
      "execution_count": 17,
      "metadata": {
        "colab": {
          "base_uri": "https://localhost:8080/"
        },
        "id": "8r4RhYlZ0mVy",
        "outputId": "fb8cc63f-f8a5-4fef-f3df-5c329f053393"
      },
      "outputs": [
        {
          "data": {
            "text/plain": [
              "0.5052229903699365"
            ]
          },
          "execution_count": 17,
          "metadata": {},
          "output_type": "execute_result"
        }
      ],
      "source": [
        "#Evaluamos la eficiencia del modelo obtenido por medio del coeficiente R Determinación\n",
        "model.score(x_precio,y_precio)"
      ]
    },
    {
      "cell_type": "code",
      "execution_count": 18,
      "metadata": {
        "colab": {
          "base_uri": "https://localhost:8080/"
        },
        "id": "tVtIje6a0rff",
        "outputId": "b5b8a06a-9e53-4b6e-8058-f04d2edd90f1"
      },
      "outputs": [
        {
          "data": {
            "text/plain": [
              "array([2055.22147274, 3122.73304979, 3034.71734905, ..., 4083.73372058,\n",
              "       5351.18602529, 4318.56525959])"
            ]
          },
          "execution_count": 18,
          "metadata": {},
          "output_type": "execute_result"
        }
      ],
      "source": [
        "#Predecimos los valores del precio a partir del valor del enganche\n",
        "y_pred_1= model.predict(X=x_precio)\n",
        "y_pred_1"
      ]
    },
    {
      "cell_type": "code",
      "execution_count": 19,
      "metadata": {
        "id": "9GHTzAA-00r6"
      },
      "outputs": [],
      "source": [
        "#Realizamos una copia del dataframe\n",
        "credicel2=credicel.copy()"
      ]
    },
    {
      "cell_type": "code",
      "execution_count": 20,
      "metadata": {
        "colab": {
          "base_uri": "https://localhost:8080/",
          "height": 825
        },
        "id": "i9Iqwjsg0zUO",
        "outputId": "003ca402-0b15-4b49-d9e2-4a0dc279c72f"
      },
      "outputs": [
        {
          "data": {
            "text/html": [
              "<div>\n",
              "<style scoped>\n",
              "    .dataframe tbody tr th:only-of-type {\n",
              "        vertical-align: middle;\n",
              "    }\n",
              "\n",
              "    .dataframe tbody tr th {\n",
              "        vertical-align: top;\n",
              "    }\n",
              "\n",
              "    .dataframe thead th {\n",
              "        text-align: right;\n",
              "    }\n",
              "</style>\n",
              "<table border=\"1\" class=\"dataframe\">\n",
              "  <thead>\n",
              "    <tr style=\"text-align: right;\">\n",
              "      <th></th>\n",
              "      <th>Predicciones</th>\n",
              "      <th>folio</th>\n",
              "      <th>tag</th>\n",
              "      <th>folio_solicitud</th>\n",
              "      <th>fecha</th>\n",
              "      <th>marca</th>\n",
              "      <th>modelo</th>\n",
              "      <th>plazo</th>\n",
              "      <th>precio</th>\n",
              "      <th>enganche</th>\n",
              "      <th>...</th>\n",
              "      <th>porc_eng</th>\n",
              "      <th>limite_credito</th>\n",
              "      <th>semana_actual</th>\n",
              "      <th>cp_cliente</th>\n",
              "      <th>edad_cliente</th>\n",
              "      <th>cd_cliente</th>\n",
              "      <th>edo_cliente</th>\n",
              "      <th>cd_venta</th>\n",
              "      <th>edo_venta</th>\n",
              "      <th>curp</th>\n",
              "    </tr>\n",
              "  </thead>\n",
              "  <tbody>\n",
              "    <tr>\n",
              "      <th>0</th>\n",
              "      <td>2055.221473</td>\n",
              "      <td>3</td>\n",
              "      <td>HDNAWQ3A</td>\n",
              "      <td>30</td>\n",
              "      <td>2021-11-12 19:00:00</td>\n",
              "      <td>ZTE</td>\n",
              "      <td>Blade A3 2020 RO B</td>\n",
              "      <td>26S</td>\n",
              "      <td>1949.0</td>\n",
              "      <td>780.0</td>\n",
              "      <td>...</td>\n",
              "      <td>40.02</td>\n",
              "      <td>5000</td>\n",
              "      <td>26</td>\n",
              "      <td>72490</td>\n",
              "      <td>23.0</td>\n",
              "      <td>0</td>\n",
              "      <td>0</td>\n",
              "      <td>Tantoyuca</td>\n",
              "      <td>Veracruz</td>\n",
              "      <td>AEVM980413MVZNDR02</td>\n",
              "    </tr>\n",
              "    <tr>\n",
              "      <th>1</th>\n",
              "      <td>3122.733050</td>\n",
              "      <td>4</td>\n",
              "      <td>M418YNR4</td>\n",
              "      <td>33</td>\n",
              "      <td>2021-11-12 19:15:00</td>\n",
              "      <td>MOTOROLA</td>\n",
              "      <td>LTE XT2097-12 E7I POWER Azul</td>\n",
              "      <td>13S</td>\n",
              "      <td>2999.0</td>\n",
              "      <td>1050.0</td>\n",
              "      <td>...</td>\n",
              "      <td>35.01</td>\n",
              "      <td>6000</td>\n",
              "      <td>13</td>\n",
              "      <td>72490</td>\n",
              "      <td>60.0</td>\n",
              "      <td>PUEBLA</td>\n",
              "      <td>PUE.</td>\n",
              "      <td>Heroica Puebla de Zaragoza</td>\n",
              "      <td>Puebla</td>\n",
              "      <td>ZALC610119MPLPRR07</td>\n",
              "    </tr>\n",
              "    <tr>\n",
              "      <th>2</th>\n",
              "      <td>3034.717349</td>\n",
              "      <td>5</td>\n",
              "      <td>SZ7V3NZT</td>\n",
              "      <td>37</td>\n",
              "      <td>2021-11-13 14:13:00</td>\n",
              "      <td>ZTE</td>\n",
              "      <td>BLADE A3 2020 Gris</td>\n",
              "      <td>13S</td>\n",
              "      <td>1959.0</td>\n",
              "      <td>490.0</td>\n",
              "      <td>...</td>\n",
              "      <td>25.01</td>\n",
              "      <td>0</td>\n",
              "      <td>74</td>\n",
              "      <td>72490</td>\n",
              "      <td>58.0</td>\n",
              "      <td>TANTOYUCA</td>\n",
              "      <td>VER.</td>\n",
              "      <td>0</td>\n",
              "      <td>0</td>\n",
              "      <td>0</td>\n",
              "    </tr>\n",
              "    <tr>\n",
              "      <th>3</th>\n",
              "      <td>2622.146556</td>\n",
              "      <td>6</td>\n",
              "      <td>9I08UIQZ</td>\n",
              "      <td>38</td>\n",
              "      <td>2021-11-13 15:45:00</td>\n",
              "      <td>ZTE</td>\n",
              "      <td>BLADE A3 2020 Gris</td>\n",
              "      <td>13S</td>\n",
              "      <td>1959.0</td>\n",
              "      <td>490.0</td>\n",
              "      <td>...</td>\n",
              "      <td>25.01</td>\n",
              "      <td>7000</td>\n",
              "      <td>13</td>\n",
              "      <td>72490</td>\n",
              "      <td>42.0</td>\n",
              "      <td>AMXTLAN PUE</td>\n",
              "      <td>0</td>\n",
              "      <td>Zacatlan</td>\n",
              "      <td>Puebla</td>\n",
              "      <td>SAMJ790115MPLNRS02</td>\n",
              "    </tr>\n",
              "    <tr>\n",
              "      <th>4</th>\n",
              "      <td>4082.616436</td>\n",
              "      <td>7</td>\n",
              "      <td>JMF4LKYU</td>\n",
              "      <td>44</td>\n",
              "      <td>2021-11-13 16:10:00</td>\n",
              "      <td>MOTOROLA</td>\n",
              "      <td>G10 B</td>\n",
              "      <td>39S</td>\n",
              "      <td>4299.0</td>\n",
              "      <td>1075.0</td>\n",
              "      <td>...</td>\n",
              "      <td>25.01</td>\n",
              "      <td>7000</td>\n",
              "      <td>74</td>\n",
              "      <td>72490</td>\n",
              "      <td>33.0</td>\n",
              "      <td>TANTOYUCA</td>\n",
              "      <td>VER.</td>\n",
              "      <td>Tantoyuca</td>\n",
              "      <td>Veracruz</td>\n",
              "      <td>TEHF880707HVZRRR07</td>\n",
              "    </tr>\n",
              "    <tr>\n",
              "      <th>...</th>\n",
              "      <td>...</td>\n",
              "      <td>...</td>\n",
              "      <td>...</td>\n",
              "      <td>...</td>\n",
              "      <td>...</td>\n",
              "      <td>...</td>\n",
              "      <td>...</td>\n",
              "      <td>...</td>\n",
              "      <td>...</td>\n",
              "      <td>...</td>\n",
              "      <td>...</td>\n",
              "      <td>...</td>\n",
              "      <td>...</td>\n",
              "      <td>...</td>\n",
              "      <td>...</td>\n",
              "      <td>...</td>\n",
              "      <td>...</td>\n",
              "      <td>...</td>\n",
              "      <td>...</td>\n",
              "      <td>...</td>\n",
              "      <td>...</td>\n",
              "    </tr>\n",
              "    <tr>\n",
              "      <th>22730</th>\n",
              "      <td>3492.366023</td>\n",
              "      <td>22967</td>\n",
              "      <td>92KQVRIX</td>\n",
              "      <td>96502</td>\n",
              "      <td>2023-04-18 18:45:00</td>\n",
              "      <td>Motorola</td>\n",
              "      <td>Moto E13</td>\n",
              "      <td>26S</td>\n",
              "      <td>3349.0</td>\n",
              "      <td>297.0</td>\n",
              "      <td>...</td>\n",
              "      <td>8.87</td>\n",
              "      <td>10000</td>\n",
              "      <td>0</td>\n",
              "      <td>97880</td>\n",
              "      <td>35.9</td>\n",
              "      <td>0</td>\n",
              "      <td>YUC</td>\n",
              "      <td>Oxkutzcab</td>\n",
              "      <td>Yucatan</td>\n",
              "      <td>PACT990804MYNCCH05</td>\n",
              "    </tr>\n",
              "    <tr>\n",
              "      <th>22731</th>\n",
              "      <td>3534.010450</td>\n",
              "      <td>22968</td>\n",
              "      <td>NWB2EA8J</td>\n",
              "      <td>96479</td>\n",
              "      <td>2023-04-18 18:46:00</td>\n",
              "      <td>Motorola</td>\n",
              "      <td>Moto E22i</td>\n",
              "      <td>26S</td>\n",
              "      <td>4100.0</td>\n",
              "      <td>1209.0</td>\n",
              "      <td>...</td>\n",
              "      <td>29.49</td>\n",
              "      <td>5000</td>\n",
              "      <td>0</td>\n",
              "      <td>37295</td>\n",
              "      <td>35.9</td>\n",
              "      <td>0</td>\n",
              "      <td>GTO</td>\n",
              "      <td>Leon</td>\n",
              "      <td>Guanajuato</td>\n",
              "      <td>HEGB950620MGTRMN03</td>\n",
              "    </tr>\n",
              "    <tr>\n",
              "      <th>22732</th>\n",
              "      <td>4083.733721</td>\n",
              "      <td>22969</td>\n",
              "      <td>VDTRJ2W6</td>\n",
              "      <td>96442</td>\n",
              "      <td>2023-04-18 18:47:00</td>\n",
              "      <td>Samsung</td>\n",
              "      <td>A13</td>\n",
              "      <td>26S</td>\n",
              "      <td>4849.0</td>\n",
              "      <td>1152.0</td>\n",
              "      <td>...</td>\n",
              "      <td>23.76</td>\n",
              "      <td>4750</td>\n",
              "      <td>0</td>\n",
              "      <td>20210</td>\n",
              "      <td>35.9</td>\n",
              "      <td>0</td>\n",
              "      <td>AGS</td>\n",
              "      <td>Aguascalientes</td>\n",
              "      <td>Aguascalientes</td>\n",
              "      <td>GADF870205HASLZL07</td>\n",
              "    </tr>\n",
              "    <tr>\n",
              "      <th>22733</th>\n",
              "      <td>5351.186025</td>\n",
              "      <td>22970</td>\n",
              "      <td>PETLF56C</td>\n",
              "      <td>96536</td>\n",
              "      <td>2023-04-18 18:49:00</td>\n",
              "      <td>Samsung</td>\n",
              "      <td>A53 5G</td>\n",
              "      <td>39S</td>\n",
              "      <td>9799.0</td>\n",
              "      <td>2799.0</td>\n",
              "      <td>...</td>\n",
              "      <td>28.56</td>\n",
              "      <td>7000</td>\n",
              "      <td>0</td>\n",
              "      <td>78434</td>\n",
              "      <td>35.9</td>\n",
              "      <td>0</td>\n",
              "      <td>SLP</td>\n",
              "      <td>Soledad De Graciano Sanchez</td>\n",
              "      <td>San Luis Potosi</td>\n",
              "      <td>DELJ700417HSPLRS03</td>\n",
              "    </tr>\n",
              "    <tr>\n",
              "      <th>22734</th>\n",
              "      <td>4318.565260</td>\n",
              "      <td>22971</td>\n",
              "      <td>2CI4N2WS</td>\n",
              "      <td>96534</td>\n",
              "      <td>2023-04-18 18:49:00</td>\n",
              "      <td>Samsung</td>\n",
              "      <td>A22 5G</td>\n",
              "      <td>26S</td>\n",
              "      <td>5399.0</td>\n",
              "      <td>1086.0</td>\n",
              "      <td>...</td>\n",
              "      <td>20.11</td>\n",
              "      <td>4750</td>\n",
              "      <td>0</td>\n",
              "      <td>43800</td>\n",
              "      <td>35.9</td>\n",
              "      <td>0</td>\n",
              "      <td>HGO</td>\n",
              "      <td>San Jose Del Cabo</td>\n",
              "      <td>Baja California Sur</td>\n",
              "      <td>RASI030731HDFMRSA1</td>\n",
              "    </tr>\n",
              "  </tbody>\n",
              "</table>\n",
              "<p>22735 rows × 40 columns</p>\n",
              "</div>"
            ],
            "text/plain": [
              "       Predicciones  folio       tag  folio_solicitud               fecha  \\\n",
              "0       2055.221473      3  HDNAWQ3A               30 2021-11-12 19:00:00   \n",
              "1       3122.733050      4  M418YNR4               33 2021-11-12 19:15:00   \n",
              "2       3034.717349      5  SZ7V3NZT               37 2021-11-13 14:13:00   \n",
              "3       2622.146556      6  9I08UIQZ               38 2021-11-13 15:45:00   \n",
              "4       4082.616436      7  JMF4LKYU               44 2021-11-13 16:10:00   \n",
              "...             ...    ...       ...              ...                 ...   \n",
              "22730   3492.366023  22967  92KQVRIX            96502 2023-04-18 18:45:00   \n",
              "22731   3534.010450  22968  NWB2EA8J            96479 2023-04-18 18:46:00   \n",
              "22732   4083.733721  22969  VDTRJ2W6            96442 2023-04-18 18:47:00   \n",
              "22733   5351.186025  22970  PETLF56C            96536 2023-04-18 18:49:00   \n",
              "22734   4318.565260  22971  2CI4N2WS            96534 2023-04-18 18:49:00   \n",
              "\n",
              "          marca                        modelo plazo  precio  enganche  ...  \\\n",
              "0           ZTE            Blade A3 2020 RO B   26S  1949.0     780.0  ...   \n",
              "1      MOTOROLA  LTE XT2097-12 E7I POWER Azul   13S  2999.0    1050.0  ...   \n",
              "2           ZTE            BLADE A3 2020 Gris   13S  1959.0     490.0  ...   \n",
              "3           ZTE            BLADE A3 2020 Gris   13S  1959.0     490.0  ...   \n",
              "4      MOTOROLA                         G10 B   39S  4299.0    1075.0  ...   \n",
              "...         ...                           ...   ...     ...       ...  ...   \n",
              "22730  Motorola                      Moto E13   26S  3349.0     297.0  ...   \n",
              "22731  Motorola                     Moto E22i   26S  4100.0    1209.0  ...   \n",
              "22732   Samsung                           A13   26S  4849.0    1152.0  ...   \n",
              "22733   Samsung                        A53 5G   39S  9799.0    2799.0  ...   \n",
              "22734   Samsung                        A22 5G   26S  5399.0    1086.0  ...   \n",
              "\n",
              "       porc_eng  limite_credito  semana_actual  cp_cliente  edad_cliente  \\\n",
              "0         40.02            5000             26       72490          23.0   \n",
              "1         35.01            6000             13       72490          60.0   \n",
              "2         25.01               0             74       72490          58.0   \n",
              "3         25.01            7000             13       72490          42.0   \n",
              "4         25.01            7000             74       72490          33.0   \n",
              "...         ...             ...            ...         ...           ...   \n",
              "22730      8.87           10000              0       97880          35.9   \n",
              "22731     29.49            5000              0       37295          35.9   \n",
              "22732     23.76            4750              0       20210          35.9   \n",
              "22733     28.56            7000              0       78434          35.9   \n",
              "22734     20.11            4750              0       43800          35.9   \n",
              "\n",
              "        cd_cliente edo_cliente                     cd_venta  \\\n",
              "0                0           0                    Tantoyuca   \n",
              "1          PUEBLA         PUE.   Heroica Puebla de Zaragoza   \n",
              "2        TANTOYUCA        VER.                            0   \n",
              "3      AMXTLAN PUE           0                     Zacatlan   \n",
              "4       TANTOYUCA         VER.                    Tantoyuca   \n",
              "...            ...         ...                          ...   \n",
              "22730            0         YUC                    Oxkutzcab   \n",
              "22731            0         GTO                         Leon   \n",
              "22732            0         AGS               Aguascalientes   \n",
              "22733            0         SLP  Soledad De Graciano Sanchez   \n",
              "22734            0         HGO            San Jose Del Cabo   \n",
              "\n",
              "                 edo_venta                curp  \n",
              "0                 Veracruz  AEVM980413MVZNDR02  \n",
              "1                   Puebla  ZALC610119MPLPRR07  \n",
              "2                        0                   0  \n",
              "3                   Puebla  SAMJ790115MPLNRS02  \n",
              "4                 Veracruz  TEHF880707HVZRRR07  \n",
              "...                    ...                 ...  \n",
              "22730              Yucatan  PACT990804MYNCCH05  \n",
              "22731           Guanajuato  HEGB950620MGTRMN03  \n",
              "22732       Aguascalientes  GADF870205HASLZL07  \n",
              "22733      San Luis Potosi  DELJ700417HSPLRS03  \n",
              "22734  Baja California Sur  RASI030731HDFMRSA1  \n",
              "\n",
              "[22735 rows x 40 columns]"
            ]
          },
          "execution_count": 20,
          "metadata": {},
          "output_type": "execute_result"
        }
      ],
      "source": [
        "#Insertamos la columna de predicciones en el DataFrame\n",
        "credicel2.insert(0, 'Predicciones', y_pred_1)\n",
        "credicel2"
      ]
    },
    {
      "cell_type": "code",
      "execution_count": 21,
      "metadata": {
        "colab": {
          "base_uri": "https://localhost:8080/",
          "height": 564
        },
        "id": "qygFNmJa1A7m",
        "outputId": "a1cd6b4b-d08c-4940-9d21-40020f9a2054"
      },
      "outputs": [
        {
          "data": {
            "image/png": "[encoded data removed]",
            "text/plain": [
              "<Figure size 1000x600 with 1 Axes>"
            ]
          },
          "metadata": {},
          "output_type": "display_data"
        }
      ],
      "source": [
        "#Visualizamos la gráfica comparativa entre el total real y el total predecido\n",
        "plt.figure(figsize=(10, 6))\n",
        "sns.scatterplot(data=credicel2, x='reautorizacion', y='precio', color='blue', s=100)\n",
        "sns.scatterplot(data=credicel2, x='reautorizacion', y='Predicciones', color='red', s=100)\n",
        "plt.title('Predicciones vs Real')\n",
        "plt.xlabel('Reautorización')\n",
        "plt.ylabel('Precio')\n",
        "plt.grid(True)\n",
        "plt.show()"
      ]
    },
    {
      "cell_type": "code",
      "execution_count": 22,
      "metadata": {
        "colab": {
          "base_uri": "https://localhost:8080/",
          "height": 564
        },
        "id": "VQmAX6lF1bAu",
        "outputId": "d01cd726-4727-4430-e92a-ddf392f99fad"
      },
      "outputs": [
        {
          "data": {
            "image/png": "[encoded data removed]",
            "text/plain": [
              "<Figure size 1000x600 with 1 Axes>"
            ]
          },
          "metadata": {},
          "output_type": "display_data"
        }
      ],
      "source": [
        "#Visualizamos la gráfica comparativa entre el total real y el total predecido\n",
        "plt.figure(figsize=(10, 6))\n",
        "sns.scatterplot(data=credicel2, x='status', y='precio', color='blue', s=100)\n",
        "sns.scatterplot(data=credicel2, x='status', y='Predicciones', color='red', s=100)\n",
        "plt.title('Predicciones vs Real')\n",
        "plt.xlabel('Status')\n",
        "plt.ylabel('Precio')\n",
        "plt.grid(True)\n",
        "plt.show()"
      ]
    },
    {
      "cell_type": "markdown",
      "metadata": {
        "id": "867onkiO16OX"
      },
      "source": [
        "# Análisis de Regresión: Costo Total"
      ]
    },
    {
      "cell_type": "code",
      "execution_count": 23,
      "metadata": {
        "id": "t09h8dor1_iy"
      },
      "outputs": [],
      "source": [
        "#Declaramos las variables dependientes e independientes para la regresión linea\n",
        "x_costo=credicel[['descuento', 'semana','monto_accesorios','status','fraude','inversion','reautorizacion','puntos','score_buro','limite_credito','semana_actual','edad_cliente']]\n",
        "y_costo=credicel['costo_total']"
      ]
    },
    {
      "cell_type": "code",
      "execution_count": 24,
      "metadata": {
        "id": "tu4M3UMY2OxS"
      },
      "outputs": [],
      "source": [
        "#Dividimos los datos por training y tests\n",
        "x_train_costo, x_test_costo, y_train_costo, y_test_costo = train_test_split(x_costo, y_costo, test_size=0.2, random_state=42)"
      ]
    },
    {
      "cell_type": "code",
      "execution_count": 25,
      "metadata": {
        "colab": {
          "base_uri": "https://localhost:8080/",
          "height": 74
        },
        "id": "0FDyJctW2Yyw",
        "outputId": "4b8b7846-e1ee-4aa8-b297-771340ef24a8"
      },
      "outputs": [
        {
          "data": {
            "text/html": [
              "<style>#sk-container-id-2 {color: black;}#sk-container-id-2 pre{padding: 0;}#sk-container-id-2 div.sk-toggleable {background-color: white;}#sk-container-id-2 label.sk-toggleable__label {cursor: pointer;display: block;width: 100%;margin-bottom: 0;padding: 0.3em;box-sizing: border-box;text-align: center;}#sk-container-id-2 label.sk-toggleable__label-arrow:before {content: \"▸\";float: left;margin-right: 0.25em;color: #696969;}#sk-container-id-2 label.sk-toggleable__label-arrow:hover:before {color: black;}#sk-container-id-2 div.sk-estimator:hover label.sk-toggleable__label-arrow:before {color: black;}#sk-container-id-2 div.sk-toggleable__content {max-height: 0;max-width: 0;overflow: hidden;text-align: left;background-color: #f0f8ff;}#sk-container-id-2 div.sk-toggleable__content pre {margin: 0.2em;color: black;border-radius: 0.25em;background-color: #f0f8ff;}#sk-container-id-2 input.sk-toggleable__control:checked~div.sk-toggleable__content {max-height: 200px;max-width: 100%;overflow: auto;}#sk-container-id-2 input.sk-toggleable__control:checked~label.sk-toggleable__label-arrow:before {content: \"▾\";}#sk-container-id-2 div.sk-estimator input.sk-toggleable__control:checked~label.sk-toggleable__label {background-color: #d4ebff;}#sk-container-id-2 div.sk-label input.sk-toggleable__control:checked~label.sk-toggleable__label {background-color: #d4ebff;}#sk-container-id-2 input.sk-hidden--visually {border: 0;clip: rect(1px 1px 1px 1px);clip: rect(1px, 1px, 1px, 1px);height: 1px;margin: -1px;overflow: hidden;padding: 0;position: absolute;width: 1px;}#sk-container-id-2 div.sk-estimator {font-family: monospace;background-color: #f0f8ff;border: 1px dotted black;border-radius: 0.25em;box-sizing: border-box;margin-bottom: 0.5em;}#sk-container-id-2 div.sk-estimator:hover {background-color: #d4ebff;}#sk-container-id-2 div.sk-parallel-item::after {content: \"\";width: 100%;border-bottom: 1px solid gray;flex-grow: 1;}#sk-container-id-2 div.sk-label:hover label.sk-toggleable__label {background-color: #d4ebff;}#sk-container-id-2 div.sk-serial::before {content: \"\";position: absolute;border-left: 1px solid gray;box-sizing: border-box;top: 0;bottom: 0;left: 50%;z-index: 0;}#sk-container-id-2 div.sk-serial {display: flex;flex-direction: column;align-items: center;background-color: white;padding-right: 0.2em;padding-left: 0.2em;position: relative;}#sk-container-id-2 div.sk-item {position: relative;z-index: 1;}#sk-container-id-2 div.sk-parallel {display: flex;align-items: stretch;justify-content: center;background-color: white;position: relative;}#sk-container-id-2 div.sk-item::before, #sk-container-id-2 div.sk-parallel-item::before {content: \"\";position: absolute;border-left: 1px solid gray;box-sizing: border-box;top: 0;bottom: 0;left: 50%;z-index: -1;}#sk-container-id-2 div.sk-parallel-item {display: flex;flex-direction: column;z-index: 1;position: relative;background-color: white;}#sk-container-id-2 div.sk-parallel-item:first-child::after {align-self: flex-end;width: 50%;}#sk-container-id-2 div.sk-parallel-item:last-child::after {align-self: flex-start;width: 50%;}#sk-container-id-2 div.sk-parallel-item:only-child::after {width: 0;}#sk-container-id-2 div.sk-dashed-wrapped {border: 1px dashed gray;margin: 0 0.4em 0.5em 0.4em;box-sizing: border-box;padding-bottom: 0.4em;background-color: white;}#sk-container-id-2 div.sk-label label {font-family: monospace;font-weight: bold;display: inline-block;line-height: 1.2em;}#sk-container-id-2 div.sk-label-container {text-align: center;}#sk-container-id-2 div.sk-container {/* jupyter's `normalize.less` sets `[hidden] { display: none; }` but bootstrap.min.css set `[hidden] { display: none !important; }` so we also need the `!important` here to be able to override the default hidden behavior on the sphinx rendered scikit-learn.org. See: https://github.com/scikit-learn/scikit-learn/issues/21755 */display: inline-block !important;position: relative;}#sk-container-id-2 div.sk-text-repr-fallback {display: none;}</style><div id=\"sk-container-id-2\" class=\"sk-top-container\"><div class=\"sk-text-repr-fallback\"><pre>LinearRegression()</pre><b>In a Jupyter environment, please rerun this cell to show the HTML representation or trust the notebook. <br />On GitHub, the HTML representation is unable to render, please try loading this page with nbviewer.org.</b></div><div class=\"sk-container\" hidden><div class=\"sk-item\"><div class=\"sk-estimator sk-toggleable\"><input class=\"sk-toggleable__control sk-hidden--visually\" id=\"sk-estimator-id-2\" type=\"checkbox\" checked><label for=\"sk-estimator-id-2\" class=\"sk-toggleable__label sk-toggleable__label-arrow\">LinearRegression</label><div class=\"sk-toggleable__content\"><pre>LinearRegression()</pre></div></div></div></div></div>"
            ],
            "text/plain": [
              "LinearRegression()"
            ]
          },
          "execution_count": 25,
          "metadata": {},
          "output_type": "execute_result"
        }
      ],
      "source": [
        "# Creamos el modelo de regresión\n",
        "model = LinearRegression()\n",
        "\n",
        "model.fit(x_train_costo, y_train_costo)"
      ]
    },
    {
      "cell_type": "code",
      "execution_count": 26,
      "metadata": {
        "colab": {
          "base_uri": "https://localhost:8080/"
        },
        "id": "7ARsnSre2dt1",
        "outputId": "0a6273ff-15a1-4452-93f6-41b4be067175"
      },
      "outputs": [
        {
          "name": "stdout",
          "output_type": "stream",
          "text": [
            "Coeficientes costo total: [ 1.32024905e+00  1.05128205e+01  2.43408660e+00 -1.29111809e+03\n",
            " -6.81782025e+01 -9.80030087e+01 -5.46469206e+01  1.27676267e+01\n",
            "  6.36728749e-01  1.67966197e-01  2.87831772e+01 -3.82928430e+00]\n",
            "Intercepto costo total: 2889.9109689754378\n"
          ]
        }
      ],
      "source": [
        "# Calculamos los coeficientes por cada una de las variables\n",
        "coeficientes_costo = model.coef_\n",
        "\n",
        "# Intercepto\n",
        "intercepto_costo = model.intercept_\n",
        "\n",
        "# Imprimimos los coeficientes y el intercepto\n",
        "print(\"Coeficientes costo total:\", coeficientes_costo)\n",
        "print(\"Intercepto costo total:\", intercepto_costo)"
      ]
    },
    {
      "cell_type": "markdown",
      "metadata": {
        "id": "LOsHjgHL3AWC"
      },
      "source": [
        "Variables con mayores coeficientes:\n",
        "\n",
        "\n",
        "*  Status: -1291.11\n",
        "*  Semana actual: 28.78\n"
      ]
    },
    {
      "cell_type": "code",
      "execution_count": 27,
      "metadata": {
        "id": "LLPkHelc45P3"
      },
      "outputs": [],
      "source": [
        "x_costo2 = credicel[['status','semana_actual']]\n",
        "#Dividimos los datos por training y tests\n",
        "x_train_costo2, x_test_costo2, y_train_costo, y_test_costo = train_test_split(x_costo2, y_costo, test_size=0.2, random_state=42)"
      ]
    },
    {
      "cell_type": "code",
      "execution_count": 28,
      "metadata": {
        "colab": {
          "base_uri": "https://localhost:8080/"
        },
        "id": "X_3XvN9V33n0",
        "outputId": "673c694d-2954-4031-ddcc-ee8c2c80a007"
      },
      "outputs": [
        {
          "name": "stdout",
          "output_type": "stream",
          "text": [
            "R-squared (R2) score: 0.32404085494926516\n"
          ]
        }
      ],
      "source": [
        "# Hacemos predicciones\n",
        "y_pred2 = model.predict(x_test_costo)\n",
        "\n",
        "# Calculate the R-squared score\n",
        "r2_costo = r2_score(y_test_costo, y_pred2)\n",
        "print(\"R-squared (R2) score:\", r2_costo)"
      ]
    },
    {
      "cell_type": "code",
      "execution_count": 29,
      "metadata": {
        "colab": {
          "base_uri": "https://localhost:8080/"
        },
        "id": "yFt51kBB4CMr",
        "outputId": "b55a3fa9-dd44-468d-98e7-1e19b4ef9fdf"
      },
      "outputs": [
        {
          "data": {
            "text/plain": [
              "{'fit_intercept': True,\n",
              " 'copy_X': True,\n",
              " 'n_jobs': None,\n",
              " 'positive': False,\n",
              " 'feature_names_in_': array(['descuento', 'semana', 'monto_accesorios', 'status', 'fraude',\n",
              "        'inversion', 'reautorizacion', 'puntos', 'score_buro',\n",
              "        'limite_credito', 'semana_actual', 'edad_cliente'], dtype=object),\n",
              " 'n_features_in_': 12,\n",
              " 'coef_': array([ 1.32024905e+00,  1.05128205e+01,  2.43408660e+00, -1.29111809e+03,\n",
              "        -6.81782025e+01, -9.80030087e+01, -5.46469206e+01,  1.27676267e+01,\n",
              "         6.36728749e-01,  1.67966197e-01,  2.87831772e+01, -3.82928430e+00]),\n",
              " 'rank_': 12,\n",
              " 'singular_': array([2.87962228e+05, 3.79424243e+04, 1.78137513e+04, 1.34434657e+04,\n",
              "        7.94214588e+03, 1.66028926e+03, 1.27047198e+03, 1.08046016e+03,\n",
              "        5.92473691e+01, 5.35276554e+01, 3.40487059e+01, 2.17206426e+01]),\n",
              " 'intercept_': 2889.9109689754378}"
            ]
          },
          "execution_count": 29,
          "metadata": {},
          "output_type": "execute_result"
        }
      ],
      "source": [
        "#Verificamos los coeficientes obtenidos para el modelo ajustado\n",
        "model.__dict__"
      ]
    },
    {
      "cell_type": "markdown",
      "metadata": {
        "id": "8OwspPn45lKK"
      },
      "source": [
        "## Modelo Matemático:\n",
        "\n",
        "costo total = 2889.91 + (1291.1181 x status) + (28.7832 x semana_actual)"
      ]
    },
    {
      "cell_type": "code",
      "execution_count": 30,
      "metadata": {
        "colab": {
          "base_uri": "https://localhost:8080/"
        },
        "id": "R8LAZNTu5szL",
        "outputId": "90716361-67cd-4272-83ca-14b2577aed16"
      },
      "outputs": [
        {
          "data": {
            "text/plain": [
              "0.31216984503523404"
            ]
          },
          "execution_count": 30,
          "metadata": {},
          "output_type": "execute_result"
        }
      ],
      "source": [
        "#Evaluamos la eficiencia del modelo obtenido por medio del coeficiente R Determinación\n",
        "model.score(x_costo,y_costo)"
      ]
    },
    {
      "cell_type": "code",
      "execution_count": 31,
      "metadata": {
        "colab": {
          "base_uri": "https://localhost:8080/"
        },
        "id": "uuPo_7Je5x1p",
        "outputId": "6c1375ff-cc72-473c-eef7-2f4a04726a25"
      },
      "outputs": [
        {
          "data": {
            "text/plain": [
              "array([2659.33329455, 3825.28081769, 2711.59279238, ..., 5383.14543701,\n",
              "       7318.85382217, 5457.7028398 ])"
            ]
          },
          "execution_count": 31,
          "metadata": {},
          "output_type": "execute_result"
        }
      ],
      "source": [
        "#Predecimos los valores del precio a partir del valor del enganche\n",
        "y_pred_2= model.predict(X=x_costo)\n",
        "y_pred_2"
      ]
    },
    {
      "cell_type": "code",
      "execution_count": 32,
      "metadata": {
        "id": "8tmPx1nT54Rr"
      },
      "outputs": [],
      "source": [
        "#Realizamos una copia del dataframe\n",
        "credicel3=credicel.copy()"
      ]
    },
    {
      "cell_type": "code",
      "execution_count": 33,
      "metadata": {
        "colab": {
          "base_uri": "https://localhost:8080/",
          "height": 825
        },
        "id": "DSorsWjC563e",
        "outputId": "63496a08-46f6-4391-f706-3d51d0479a0f"
      },
      "outputs": [
        {
          "data": {
            "text/html": [
              "<div>\n",
              "<style scoped>\n",
              "    .dataframe tbody tr th:only-of-type {\n",
              "        vertical-align: middle;\n",
              "    }\n",
              "\n",
              "    .dataframe tbody tr th {\n",
              "        vertical-align: top;\n",
              "    }\n",
              "\n",
              "    .dataframe thead th {\n",
              "        text-align: right;\n",
              "    }\n",
              "</style>\n",
              "<table border=\"1\" class=\"dataframe\">\n",
              "  <thead>\n",
              "    <tr style=\"text-align: right;\">\n",
              "      <th></th>\n",
              "      <th>Predicciones</th>\n",
              "      <th>folio</th>\n",
              "      <th>tag</th>\n",
              "      <th>folio_solicitud</th>\n",
              "      <th>fecha</th>\n",
              "      <th>marca</th>\n",
              "      <th>modelo</th>\n",
              "      <th>plazo</th>\n",
              "      <th>precio</th>\n",
              "      <th>enganche</th>\n",
              "      <th>...</th>\n",
              "      <th>porc_eng</th>\n",
              "      <th>limite_credito</th>\n",
              "      <th>semana_actual</th>\n",
              "      <th>cp_cliente</th>\n",
              "      <th>edad_cliente</th>\n",
              "      <th>cd_cliente</th>\n",
              "      <th>edo_cliente</th>\n",
              "      <th>cd_venta</th>\n",
              "      <th>edo_venta</th>\n",
              "      <th>curp</th>\n",
              "    </tr>\n",
              "  </thead>\n",
              "  <tbody>\n",
              "    <tr>\n",
              "      <th>0</th>\n",
              "      <td>2659.333295</td>\n",
              "      <td>3</td>\n",
              "      <td>HDNAWQ3A</td>\n",
              "      <td>30</td>\n",
              "      <td>2021-11-12 19:00:00</td>\n",
              "      <td>ZTE</td>\n",
              "      <td>Blade A3 2020 RO B</td>\n",
              "      <td>26S</td>\n",
              "      <td>1949.0</td>\n",
              "      <td>780.0</td>\n",
              "      <td>...</td>\n",
              "      <td>40.02</td>\n",
              "      <td>5000</td>\n",
              "      <td>26</td>\n",
              "      <td>72490</td>\n",
              "      <td>23.0</td>\n",
              "      <td>0</td>\n",
              "      <td>0</td>\n",
              "      <td>Tantoyuca</td>\n",
              "      <td>Veracruz</td>\n",
              "      <td>AEVM980413MVZNDR02</td>\n",
              "    </tr>\n",
              "    <tr>\n",
              "      <th>1</th>\n",
              "      <td>3825.280818</td>\n",
              "      <td>4</td>\n",
              "      <td>M418YNR4</td>\n",
              "      <td>33</td>\n",
              "      <td>2021-11-12 19:15:00</td>\n",
              "      <td>MOTOROLA</td>\n",
              "      <td>LTE XT2097-12 E7I POWER Azul</td>\n",
              "      <td>13S</td>\n",
              "      <td>2999.0</td>\n",
              "      <td>1050.0</td>\n",
              "      <td>...</td>\n",
              "      <td>35.01</td>\n",
              "      <td>6000</td>\n",
              "      <td>13</td>\n",
              "      <td>72490</td>\n",
              "      <td>60.0</td>\n",
              "      <td>PUEBLA</td>\n",
              "      <td>PUE.</td>\n",
              "      <td>Heroica Puebla de Zaragoza</td>\n",
              "      <td>Puebla</td>\n",
              "      <td>ZALC610119MPLPRR07</td>\n",
              "    </tr>\n",
              "    <tr>\n",
              "      <th>2</th>\n",
              "      <td>2711.592792</td>\n",
              "      <td>5</td>\n",
              "      <td>SZ7V3NZT</td>\n",
              "      <td>37</td>\n",
              "      <td>2021-11-13 14:13:00</td>\n",
              "      <td>ZTE</td>\n",
              "      <td>BLADE A3 2020 Gris</td>\n",
              "      <td>13S</td>\n",
              "      <td>1959.0</td>\n",
              "      <td>490.0</td>\n",
              "      <td>...</td>\n",
              "      <td>25.01</td>\n",
              "      <td>0</td>\n",
              "      <td>74</td>\n",
              "      <td>72490</td>\n",
              "      <td>58.0</td>\n",
              "      <td>TANTOYUCA</td>\n",
              "      <td>VER.</td>\n",
              "      <td>0</td>\n",
              "      <td>0</td>\n",
              "      <td>0</td>\n",
              "    </tr>\n",
              "    <tr>\n",
              "      <th>3</th>\n",
              "      <td>3483.969006</td>\n",
              "      <td>6</td>\n",
              "      <td>9I08UIQZ</td>\n",
              "      <td>38</td>\n",
              "      <td>2021-11-13 15:45:00</td>\n",
              "      <td>ZTE</td>\n",
              "      <td>BLADE A3 2020 Gris</td>\n",
              "      <td>13S</td>\n",
              "      <td>1959.0</td>\n",
              "      <td>490.0</td>\n",
              "      <td>...</td>\n",
              "      <td>25.01</td>\n",
              "      <td>7000</td>\n",
              "      <td>13</td>\n",
              "      <td>72490</td>\n",
              "      <td>42.0</td>\n",
              "      <td>AMXTLAN PUE</td>\n",
              "      <td>0</td>\n",
              "      <td>Zacatlan</td>\n",
              "      <td>Puebla</td>\n",
              "      <td>SAMJ790115MPLNRS02</td>\n",
              "    </tr>\n",
              "    <tr>\n",
              "      <th>4</th>\n",
              "      <td>6649.427030</td>\n",
              "      <td>7</td>\n",
              "      <td>JMF4LKYU</td>\n",
              "      <td>44</td>\n",
              "      <td>2021-11-13 16:10:00</td>\n",
              "      <td>MOTOROLA</td>\n",
              "      <td>G10 B</td>\n",
              "      <td>39S</td>\n",
              "      <td>4299.0</td>\n",
              "      <td>1075.0</td>\n",
              "      <td>...</td>\n",
              "      <td>25.01</td>\n",
              "      <td>7000</td>\n",
              "      <td>74</td>\n",
              "      <td>72490</td>\n",
              "      <td>33.0</td>\n",
              "      <td>TANTOYUCA</td>\n",
              "      <td>VER.</td>\n",
              "      <td>Tantoyuca</td>\n",
              "      <td>Veracruz</td>\n",
              "      <td>TEHF880707HVZRRR07</td>\n",
              "    </tr>\n",
              "    <tr>\n",
              "      <th>...</th>\n",
              "      <td>...</td>\n",
              "      <td>...</td>\n",
              "      <td>...</td>\n",
              "      <td>...</td>\n",
              "      <td>...</td>\n",
              "      <td>...</td>\n",
              "      <td>...</td>\n",
              "      <td>...</td>\n",
              "      <td>...</td>\n",
              "      <td>...</td>\n",
              "      <td>...</td>\n",
              "      <td>...</td>\n",
              "      <td>...</td>\n",
              "      <td>...</td>\n",
              "      <td>...</td>\n",
              "      <td>...</td>\n",
              "      <td>...</td>\n",
              "      <td>...</td>\n",
              "      <td>...</td>\n",
              "      <td>...</td>\n",
              "      <td>...</td>\n",
              "    </tr>\n",
              "    <tr>\n",
              "      <th>22730</th>\n",
              "      <td>5785.490711</td>\n",
              "      <td>22967</td>\n",
              "      <td>92KQVRIX</td>\n",
              "      <td>96502</td>\n",
              "      <td>2023-04-18 18:45:00</td>\n",
              "      <td>Motorola</td>\n",
              "      <td>Moto E13</td>\n",
              "      <td>26S</td>\n",
              "      <td>3349.0</td>\n",
              "      <td>297.0</td>\n",
              "      <td>...</td>\n",
              "      <td>8.87</td>\n",
              "      <td>10000</td>\n",
              "      <td>0</td>\n",
              "      <td>97880</td>\n",
              "      <td>35.9</td>\n",
              "      <td>0</td>\n",
              "      <td>YUC</td>\n",
              "      <td>Oxkutzcab</td>\n",
              "      <td>Yucatan</td>\n",
              "      <td>PACT990804MYNCCH05</td>\n",
              "    </tr>\n",
              "    <tr>\n",
              "      <th>22731</th>\n",
              "      <td>4838.263122</td>\n",
              "      <td>22968</td>\n",
              "      <td>NWB2EA8J</td>\n",
              "      <td>96479</td>\n",
              "      <td>2023-04-18 18:46:00</td>\n",
              "      <td>Motorola</td>\n",
              "      <td>Moto E22i</td>\n",
              "      <td>26S</td>\n",
              "      <td>4100.0</td>\n",
              "      <td>1209.0</td>\n",
              "      <td>...</td>\n",
              "      <td>29.49</td>\n",
              "      <td>5000</td>\n",
              "      <td>0</td>\n",
              "      <td>37295</td>\n",
              "      <td>35.9</td>\n",
              "      <td>0</td>\n",
              "      <td>GTO</td>\n",
              "      <td>Leon</td>\n",
              "      <td>Guanajuato</td>\n",
              "      <td>HEGB950620MGTRMN03</td>\n",
              "    </tr>\n",
              "    <tr>\n",
              "      <th>22732</th>\n",
              "      <td>5383.145437</td>\n",
              "      <td>22969</td>\n",
              "      <td>VDTRJ2W6</td>\n",
              "      <td>96442</td>\n",
              "      <td>2023-04-18 18:47:00</td>\n",
              "      <td>Samsung</td>\n",
              "      <td>A13</td>\n",
              "      <td>26S</td>\n",
              "      <td>4849.0</td>\n",
              "      <td>1152.0</td>\n",
              "      <td>...</td>\n",
              "      <td>23.76</td>\n",
              "      <td>4750</td>\n",
              "      <td>0</td>\n",
              "      <td>20210</td>\n",
              "      <td>35.9</td>\n",
              "      <td>0</td>\n",
              "      <td>AGS</td>\n",
              "      <td>Aguascalientes</td>\n",
              "      <td>Aguascalientes</td>\n",
              "      <td>GADF870205HASLZL07</td>\n",
              "    </tr>\n",
              "    <tr>\n",
              "      <th>22733</th>\n",
              "      <td>7318.853822</td>\n",
              "      <td>22970</td>\n",
              "      <td>PETLF56C</td>\n",
              "      <td>96536</td>\n",
              "      <td>2023-04-18 18:49:00</td>\n",
              "      <td>Samsung</td>\n",
              "      <td>A53 5G</td>\n",
              "      <td>39S</td>\n",
              "      <td>9799.0</td>\n",
              "      <td>2799.0</td>\n",
              "      <td>...</td>\n",
              "      <td>28.56</td>\n",
              "      <td>7000</td>\n",
              "      <td>0</td>\n",
              "      <td>78434</td>\n",
              "      <td>35.9</td>\n",
              "      <td>0</td>\n",
              "      <td>SLP</td>\n",
              "      <td>Soledad De Graciano Sanchez</td>\n",
              "      <td>San Luis Potosi</td>\n",
              "      <td>DELJ700417HSPLRS03</td>\n",
              "    </tr>\n",
              "    <tr>\n",
              "      <th>22734</th>\n",
              "      <td>5457.702840</td>\n",
              "      <td>22971</td>\n",
              "      <td>2CI4N2WS</td>\n",
              "      <td>96534</td>\n",
              "      <td>2023-04-18 18:49:00</td>\n",
              "      <td>Samsung</td>\n",
              "      <td>A22 5G</td>\n",
              "      <td>26S</td>\n",
              "      <td>5399.0</td>\n",
              "      <td>1086.0</td>\n",
              "      <td>...</td>\n",
              "      <td>20.11</td>\n",
              "      <td>4750</td>\n",
              "      <td>0</td>\n",
              "      <td>43800</td>\n",
              "      <td>35.9</td>\n",
              "      <td>0</td>\n",
              "      <td>HGO</td>\n",
              "      <td>San Jose Del Cabo</td>\n",
              "      <td>Baja California Sur</td>\n",
              "      <td>RASI030731HDFMRSA1</td>\n",
              "    </tr>\n",
              "  </tbody>\n",
              "</table>\n",
              "<p>22735 rows × 40 columns</p>\n",
              "</div>"
            ],
            "text/plain": [
              "       Predicciones  folio       tag  folio_solicitud               fecha  \\\n",
              "0       2659.333295      3  HDNAWQ3A               30 2021-11-12 19:00:00   \n",
              "1       3825.280818      4  M418YNR4               33 2021-11-12 19:15:00   \n",
              "2       2711.592792      5  SZ7V3NZT               37 2021-11-13 14:13:00   \n",
              "3       3483.969006      6  9I08UIQZ               38 2021-11-13 15:45:00   \n",
              "4       6649.427030      7  JMF4LKYU               44 2021-11-13 16:10:00   \n",
              "...             ...    ...       ...              ...                 ...   \n",
              "22730   5785.490711  22967  92KQVRIX            96502 2023-04-18 18:45:00   \n",
              "22731   4838.263122  22968  NWB2EA8J            96479 2023-04-18 18:46:00   \n",
              "22732   5383.145437  22969  VDTRJ2W6            96442 2023-04-18 18:47:00   \n",
              "22733   7318.853822  22970  PETLF56C            96536 2023-04-18 18:49:00   \n",
              "22734   5457.702840  22971  2CI4N2WS            96534 2023-04-18 18:49:00   \n",
              "\n",
              "          marca                        modelo plazo  precio  enganche  ...  \\\n",
              "0           ZTE            Blade A3 2020 RO B   26S  1949.0     780.0  ...   \n",
              "1      MOTOROLA  LTE XT2097-12 E7I POWER Azul   13S  2999.0    1050.0  ...   \n",
              "2           ZTE            BLADE A3 2020 Gris   13S  1959.0     490.0  ...   \n",
              "3           ZTE            BLADE A3 2020 Gris   13S  1959.0     490.0  ...   \n",
              "4      MOTOROLA                         G10 B   39S  4299.0    1075.0  ...   \n",
              "...         ...                           ...   ...     ...       ...  ...   \n",
              "22730  Motorola                      Moto E13   26S  3349.0     297.0  ...   \n",
              "22731  Motorola                     Moto E22i   26S  4100.0    1209.0  ...   \n",
              "22732   Samsung                           A13   26S  4849.0    1152.0  ...   \n",
              "22733   Samsung                        A53 5G   39S  9799.0    2799.0  ...   \n",
              "22734   Samsung                        A22 5G   26S  5399.0    1086.0  ...   \n",
              "\n",
              "       porc_eng  limite_credito  semana_actual  cp_cliente  edad_cliente  \\\n",
              "0         40.02            5000             26       72490          23.0   \n",
              "1         35.01            6000             13       72490          60.0   \n",
              "2         25.01               0             74       72490          58.0   \n",
              "3         25.01            7000             13       72490          42.0   \n",
              "4         25.01            7000             74       72490          33.0   \n",
              "...         ...             ...            ...         ...           ...   \n",
              "22730      8.87           10000              0       97880          35.9   \n",
              "22731     29.49            5000              0       37295          35.9   \n",
              "22732     23.76            4750              0       20210          35.9   \n",
              "22733     28.56            7000              0       78434          35.9   \n",
              "22734     20.11            4750              0       43800          35.9   \n",
              "\n",
              "        cd_cliente edo_cliente                     cd_venta  \\\n",
              "0                0           0                    Tantoyuca   \n",
              "1          PUEBLA         PUE.   Heroica Puebla de Zaragoza   \n",
              "2        TANTOYUCA        VER.                            0   \n",
              "3      AMXTLAN PUE           0                     Zacatlan   \n",
              "4       TANTOYUCA         VER.                    Tantoyuca   \n",
              "...            ...         ...                          ...   \n",
              "22730            0         YUC                    Oxkutzcab   \n",
              "22731            0         GTO                         Leon   \n",
              "22732            0         AGS               Aguascalientes   \n",
              "22733            0         SLP  Soledad De Graciano Sanchez   \n",
              "22734            0         HGO            San Jose Del Cabo   \n",
              "\n",
              "                 edo_venta                curp  \n",
              "0                 Veracruz  AEVM980413MVZNDR02  \n",
              "1                   Puebla  ZALC610119MPLPRR07  \n",
              "2                        0                   0  \n",
              "3                   Puebla  SAMJ790115MPLNRS02  \n",
              "4                 Veracruz  TEHF880707HVZRRR07  \n",
              "...                    ...                 ...  \n",
              "22730              Yucatan  PACT990804MYNCCH05  \n",
              "22731           Guanajuato  HEGB950620MGTRMN03  \n",
              "22732       Aguascalientes  GADF870205HASLZL07  \n",
              "22733      San Luis Potosi  DELJ700417HSPLRS03  \n",
              "22734  Baja California Sur  RASI030731HDFMRSA1  \n",
              "\n",
              "[22735 rows x 40 columns]"
            ]
          },
          "execution_count": 33,
          "metadata": {},
          "output_type": "execute_result"
        }
      ],
      "source": [
        "#Insertamos la columna de predicciones en el DataFrame\n",
        "credicel3.insert(0, 'Predicciones', y_pred_2)\n",
        "credicel3"
      ]
    },
    {
      "cell_type": "code",
      "execution_count": 34,
      "metadata": {
        "colab": {
          "base_uri": "https://localhost:8080/",
          "height": 564
        },
        "id": "hHl7kZoH6AJy",
        "outputId": "a7cbfb7d-55e6-4e11-d4ea-e56df9aafb8c"
      },
      "outputs": [
        {
          "data": {
            "image/png": "[encoded data removed]",
            "text/plain": [
              "<Figure size 1000x600 with 1 Axes>"
            ]
          },
          "metadata": {},
          "output_type": "display_data"
        }
      ],
      "source": [
        "#Visualizamos la gráfica comparativa entre el total real y el total predecido\n",
        "plt.figure(figsize=(10, 6))\n",
        "sns.scatterplot(data=credicel3, x='status', y='costo_total', color='blue', s=100)\n",
        "sns.scatterplot(data=credicel3, x='status', y='Predicciones', color='red', s=100)\n",
        "plt.title('Predicciones vs Real')\n",
        "plt.xlabel('Status')\n",
        "plt.ylabel('Costo Total')\n",
        "plt.grid(True)\n",
        "plt.show()"
      ]
    },
    {
      "cell_type": "code",
      "execution_count": 35,
      "metadata": {
        "colab": {
          "base_uri": "https://localhost:8080/",
          "height": 564
        },
        "id": "Q0gjAbxl6V3g",
        "outputId": "ea722842-e92a-439e-9100-34008871fa5f"
      },
      "outputs": [
        {
          "data": {
            "image/png": "[encoded data removed]",
            "text/plain": [
              "<Figure size 1000x600 with 1 Axes>"
            ]
          },
          "metadata": {},
          "output_type": "display_data"
        }
      ],
      "source": [
        "#Visualizamos la gráfica comparativa entre el total real y el total predecido\n",
        "plt.figure(figsize=(10, 6))\n",
        "sns.scatterplot(data=credicel3, x='semana_actual', y='costo_total', color='blue', s=100)\n",
        "sns.scatterplot(data=credicel3, x='semana_actual', y='Predicciones', color='red', s=100)\n",
        "plt.title('Predicciones vs Real')\n",
        "plt.xlabel('Semana Actual')\n",
        "plt.ylabel('Costo Total')\n",
        "plt.grid(True)\n",
        "plt.show()"
      ]
    },
    {
      "cell_type": "markdown",
      "metadata": {
        "id": "8qRxerLP6hIz"
      },
      "source": [
        "# Análisis de Regresión: Plazo"
      ]
    },
    {
      "cell_type": "code",
      "execution_count": 36,
      "metadata": {
        "id": "2jEI6rbm9OqJ"
      },
      "outputs": [],
      "source": [
        "#Quitamos la S en la columna \"Plazo\" para convertirla en numérica\n",
        "credicel['plazo'] = credicel['plazo'].str.replace('S', '')\n",
        "credicel['plazo'] = pd.to_numeric(credicel['plazo'], errors='coerce')"
      ]
    },
    {
      "cell_type": "code",
      "execution_count": 37,
      "metadata": {
        "id": "4N2dkqfx6uMo"
      },
      "outputs": [],
      "source": [
        "#Declaramos las variables dependientes e independientes para la regresión linea\n",
        "x_plazo=credicel[['descuento', 'semana','monto_accesorios','status','fraude','inversion','reautorizacion','puntos','score_buro','limite_credito','semana_actual','edad_cliente']]\n",
        "y_plazo=credicel['plazo']"
      ]
    },
    {
      "cell_type": "code",
      "execution_count": 38,
      "metadata": {
        "id": "n3yiz_R064jZ"
      },
      "outputs": [],
      "source": [
        "#Dividimos los datos por training y tests\n",
        "x_train_plazo, x_test_plazo, y_train_plazo, y_test_plazo = train_test_split(x_plazo, y_plazo, test_size=0.2, random_state=42)"
      ]
    },
    {
      "cell_type": "code",
      "execution_count": 39,
      "metadata": {
        "colab": {
          "base_uri": "https://localhost:8080/",
          "height": 74
        },
        "id": "KUNB2DbY7ep6",
        "outputId": "551ffd37-7834-4a90-ac39-dc856ab215cb"
      },
      "outputs": [
        {
          "data": {
            "text/html": [
              "<style>#sk-container-id-3 {color: black;}#sk-container-id-3 pre{padding: 0;}#sk-container-id-3 div.sk-toggleable {background-color: white;}#sk-container-id-3 label.sk-toggleable__label {cursor: pointer;display: block;width: 100%;margin-bottom: 0;padding: 0.3em;box-sizing: border-box;text-align: center;}#sk-container-id-3 label.sk-toggleable__label-arrow:before {content: \"▸\";float: left;margin-right: 0.25em;color: #696969;}#sk-container-id-3 label.sk-toggleable__label-arrow:hover:before {color: black;}#sk-container-id-3 div.sk-estimator:hover label.sk-toggleable__label-arrow:before {color: black;}#sk-container-id-3 div.sk-toggleable__content {max-height: 0;max-width: 0;overflow: hidden;text-align: left;background-color: #f0f8ff;}#sk-container-id-3 div.sk-toggleable__content pre {margin: 0.2em;color: black;border-radius: 0.25em;background-color: #f0f8ff;}#sk-container-id-3 input.sk-toggleable__control:checked~div.sk-toggleable__content {max-height: 200px;max-width: 100%;overflow: auto;}#sk-container-id-3 input.sk-toggleable__control:checked~label.sk-toggleable__label-arrow:before {content: \"▾\";}#sk-container-id-3 div.sk-estimator input.sk-toggleable__control:checked~label.sk-toggleable__label {background-color: #d4ebff;}#sk-container-id-3 div.sk-label input.sk-toggleable__control:checked~label.sk-toggleable__label {background-color: #d4ebff;}#sk-container-id-3 input.sk-hidden--visually {border: 0;clip: rect(1px 1px 1px 1px);clip: rect(1px, 1px, 1px, 1px);height: 1px;margin: -1px;overflow: hidden;padding: 0;position: absolute;width: 1px;}#sk-container-id-3 div.sk-estimator {font-family: monospace;background-color: #f0f8ff;border: 1px dotted black;border-radius: 0.25em;box-sizing: border-box;margin-bottom: 0.5em;}#sk-container-id-3 div.sk-estimator:hover {background-color: #d4ebff;}#sk-container-id-3 div.sk-parallel-item::after {content: \"\";width: 100%;border-bottom: 1px solid gray;flex-grow: 1;}#sk-container-id-3 div.sk-label:hover label.sk-toggleable__label {background-color: #d4ebff;}#sk-container-id-3 div.sk-serial::before {content: \"\";position: absolute;border-left: 1px solid gray;box-sizing: border-box;top: 0;bottom: 0;left: 50%;z-index: 0;}#sk-container-id-3 div.sk-serial {display: flex;flex-direction: column;align-items: center;background-color: white;padding-right: 0.2em;padding-left: 0.2em;position: relative;}#sk-container-id-3 div.sk-item {position: relative;z-index: 1;}#sk-container-id-3 div.sk-parallel {display: flex;align-items: stretch;justify-content: center;background-color: white;position: relative;}#sk-container-id-3 div.sk-item::before, #sk-container-id-3 div.sk-parallel-item::before {content: \"\";position: absolute;border-left: 1px solid gray;box-sizing: border-box;top: 0;bottom: 0;left: 50%;z-index: -1;}#sk-container-id-3 div.sk-parallel-item {display: flex;flex-direction: column;z-index: 1;position: relative;background-color: white;}#sk-container-id-3 div.sk-parallel-item:first-child::after {align-self: flex-end;width: 50%;}#sk-container-id-3 div.sk-parallel-item:last-child::after {align-self: flex-start;width: 50%;}#sk-container-id-3 div.sk-parallel-item:only-child::after {width: 0;}#sk-container-id-3 div.sk-dashed-wrapped {border: 1px dashed gray;margin: 0 0.4em 0.5em 0.4em;box-sizing: border-box;padding-bottom: 0.4em;background-color: white;}#sk-container-id-3 div.sk-label label {font-family: monospace;font-weight: bold;display: inline-block;line-height: 1.2em;}#sk-container-id-3 div.sk-label-container {text-align: center;}#sk-container-id-3 div.sk-container {/* jupyter's `normalize.less` sets `[hidden] { display: none; }` but bootstrap.min.css set `[hidden] { display: none !important; }` so we also need the `!important` here to be able to override the default hidden behavior on the sphinx rendered scikit-learn.org. See: https://github.com/scikit-learn/scikit-learn/issues/21755 */display: inline-block !important;position: relative;}#sk-container-id-3 div.sk-text-repr-fallback {display: none;}</style><div id=\"sk-container-id-3\" class=\"sk-top-container\"><div class=\"sk-text-repr-fallback\"><pre>LinearRegression()</pre><b>In a Jupyter environment, please rerun this cell to show the HTML representation or trust the notebook. <br />On GitHub, the HTML representation is unable to render, please try loading this page with nbviewer.org.</b></div><div class=\"sk-container\" hidden><div class=\"sk-item\"><div class=\"sk-estimator sk-toggleable\"><input class=\"sk-toggleable__control sk-hidden--visually\" id=\"sk-estimator-id-3\" type=\"checkbox\" checked><label for=\"sk-estimator-id-3\" class=\"sk-toggleable__label sk-toggleable__label-arrow\">LinearRegression</label><div class=\"sk-toggleable__content\"><pre>LinearRegression()</pre></div></div></div></div></div>"
            ],
            "text/plain": [
              "LinearRegression()"
            ]
          },
          "execution_count": 39,
          "metadata": {},
          "output_type": "execute_result"
        }
      ],
      "source": [
        "# Creamos el modelo de regresión\n",
        "model = LinearRegression()\n",
        "\n",
        "model.fit(x_train_plazo, y_train_plazo)"
      ]
    },
    {
      "cell_type": "code",
      "execution_count": 40,
      "metadata": {
        "colab": {
          "base_uri": "https://localhost:8080/"
        },
        "id": "WXsm2ayy7h6-",
        "outputId": "cc6cd973-3e74-4c8b-bc3f-3235fd0eeb21"
      },
      "outputs": [
        {
          "name": "stdout",
          "output_type": "stream",
          "text": [
            "Coeficientes Plazo: [ 6.22883601e-03 -4.06154649e-02  8.89499529e-03 -5.49788241e+00\n",
            " -6.25554070e-01  1.41965691e-02 -8.45659907e-01  3.96009057e-02\n",
            "  2.48012781e-03  6.26151718e-04  1.29988263e-01 -8.38223418e-03]\n",
            "Intercepto Plazo: 34.53045993217761\n"
          ]
        }
      ],
      "source": [
        "# Calculamos los coeficientes por cada una de las variables\n",
        "coeficientes_plazo = model.coef_\n",
        "\n",
        "# Intercepto\n",
        "intercepto_plazo = model.intercept_\n",
        "\n",
        "# Imprimimos los coeficientes y el intercepto\n",
        "print(\"Coeficientes Plazo:\", coeficientes_plazo)\n",
        "print(\"Intercepto Plazo:\", intercepto_plazo)"
      ]
    },
    {
      "cell_type": "markdown",
      "metadata": {
        "id": "Gswi50ex7tnZ"
      },
      "source": [
        "Variables con mayores coeficientes:\n",
        "\n",
        "Satus: -5.4979\n",
        "Reautorización: 0.8457"
      ]
    },
    {
      "cell_type": "code",
      "execution_count": 41,
      "metadata": {
        "colab": {
          "base_uri": "https://localhost:8080/"
        },
        "id": "sGr5G3Iq-gJt",
        "outputId": "7ac8e14a-7caf-44dc-9e8d-decdda0994f7"
      },
      "outputs": [
        {
          "name": "stdout",
          "output_type": "stream",
          "text": [
            "R-squared (R2) score: 0.3425727016178385\n"
          ]
        }
      ],
      "source": [
        "# Hacemos predicciones\n",
        "y_pred3 = model.predict(x_test_plazo)\n",
        "\n",
        "# Calculate the R-squared score\n",
        "r2_plazo = r2_score(y_test_plazo, y_pred3)\n",
        "print(\"R-squared (R2) score:\", r2_plazo)"
      ]
    },
    {
      "cell_type": "code",
      "execution_count": 42,
      "metadata": {
        "colab": {
          "base_uri": "https://localhost:8080/"
        },
        "id": "zTr1jeUn-vDB",
        "outputId": "82f8dc60-f2ca-4472-fe41-85dab8ca524d"
      },
      "outputs": [
        {
          "data": {
            "text/plain": [
              "{'fit_intercept': True,\n",
              " 'copy_X': True,\n",
              " 'n_jobs': None,\n",
              " 'positive': False,\n",
              " 'feature_names_in_': array(['descuento', 'semana', 'monto_accesorios', 'status', 'fraude',\n",
              "        'inversion', 'reautorizacion', 'puntos', 'score_buro',\n",
              "        'limite_credito', 'semana_actual', 'edad_cliente'], dtype=object),\n",
              " 'n_features_in_': 12,\n",
              " 'coef_': array([ 6.22883601e-03, -4.06154649e-02,  8.89499529e-03, -5.49788241e+00,\n",
              "        -6.25554070e-01,  1.41965691e-02, -8.45659907e-01,  3.96009057e-02,\n",
              "         2.48012781e-03,  6.26151718e-04,  1.29988263e-01, -8.38223418e-03]),\n",
              " 'rank_': 12,\n",
              " 'singular_': array([2.87962228e+05, 3.79424243e+04, 1.78137513e+04, 1.34434657e+04,\n",
              "        7.94214588e+03, 1.66028926e+03, 1.27047198e+03, 1.08046016e+03,\n",
              "        5.92473691e+01, 5.35276554e+01, 3.40487059e+01, 2.17206426e+01]),\n",
              " 'intercept_': 34.53045993217761}"
            ]
          },
          "execution_count": 42,
          "metadata": {},
          "output_type": "execute_result"
        }
      ],
      "source": [
        "#Verificamos los coeficientes obtenidos para el modelo ajustado\n",
        "model.__dict__"
      ]
    },
    {
      "cell_type": "markdown",
      "metadata": {
        "id": "UF_LOWkI-9uN"
      },
      "source": [
        "Modelo Matemático:\n",
        "\n",
        "plazo = 34.5305 + (-5.4979 x status) + (-0.8457 x autorización)"
      ]
    },
    {
      "cell_type": "code",
      "execution_count": 43,
      "metadata": {
        "colab": {
          "base_uri": "https://localhost:8080/"
        },
        "id": "u7M_kX_9_XHE",
        "outputId": "79ff3ab9-65b4-4ff8-f18f-494ec4228b5b"
      },
      "outputs": [
        {
          "data": {
            "text/plain": [
              "0.34806160182325785"
            ]
          },
          "execution_count": 43,
          "metadata": {},
          "output_type": "execute_result"
        }
      ],
      "source": [
        "#Evaluamos la eficiencia del modelo obtenido por medio del coeficiente R Determinación\n",
        "model.score(x_plazo, y_plazo)"
      ]
    },
    {
      "cell_type": "code",
      "execution_count": 44,
      "metadata": {
        "colab": {
          "base_uri": "https://localhost:8080/"
        },
        "id": "54y_yb6k_bxZ",
        "outputId": "94453556-4a26-4b58-868a-e3302589efb6"
      },
      "outputs": [
        {
          "data": {
            "text/plain": [
              "array([26.56250451, 19.3400392 , 20.26514558, ..., 22.8823056 ,\n",
              "       19.72516993, 20.05125942])"
            ]
          },
          "execution_count": 44,
          "metadata": {},
          "output_type": "execute_result"
        }
      ],
      "source": [
        "#Predecimos los valores del precio a partir del valor del enganche\n",
        "y_pred_3= model.predict(X=x_plazo)\n",
        "y_pred_3"
      ]
    },
    {
      "cell_type": "code",
      "execution_count": 45,
      "metadata": {
        "id": "TlEdFuLV_gTj"
      },
      "outputs": [],
      "source": [
        "#Realizamos una copia del dataframe\n",
        "credicel4=credicel.copy()"
      ]
    },
    {
      "cell_type": "code",
      "execution_count": 46,
      "metadata": {
        "colab": {
          "base_uri": "https://localhost:8080/",
          "height": 825
        },
        "id": "5mp4RCw6_ksP",
        "outputId": "fb50d5dd-cbff-4997-f63a-1eecc422db75"
      },
      "outputs": [
        {
          "data": {
            "text/html": [
              "<div>\n",
              "<style scoped>\n",
              "    .dataframe tbody tr th:only-of-type {\n",
              "        vertical-align: middle;\n",
              "    }\n",
              "\n",
              "    .dataframe tbody tr th {\n",
              "        vertical-align: top;\n",
              "    }\n",
              "\n",
              "    .dataframe thead th {\n",
              "        text-align: right;\n",
              "    }\n",
              "</style>\n",
              "<table border=\"1\" class=\"dataframe\">\n",
              "  <thead>\n",
              "    <tr style=\"text-align: right;\">\n",
              "      <th></th>\n",
              "      <th>Predicciones</th>\n",
              "      <th>folio</th>\n",
              "      <th>tag</th>\n",
              "      <th>folio_solicitud</th>\n",
              "      <th>fecha</th>\n",
              "      <th>marca</th>\n",
              "      <th>modelo</th>\n",
              "      <th>plazo</th>\n",
              "      <th>precio</th>\n",
              "      <th>enganche</th>\n",
              "      <th>...</th>\n",
              "      <th>porc_eng</th>\n",
              "      <th>limite_credito</th>\n",
              "      <th>semana_actual</th>\n",
              "      <th>cp_cliente</th>\n",
              "      <th>edad_cliente</th>\n",
              "      <th>cd_cliente</th>\n",
              "      <th>edo_cliente</th>\n",
              "      <th>cd_venta</th>\n",
              "      <th>edo_venta</th>\n",
              "      <th>curp</th>\n",
              "    </tr>\n",
              "  </thead>\n",
              "  <tbody>\n",
              "    <tr>\n",
              "      <th>0</th>\n",
              "      <td>26.562505</td>\n",
              "      <td>3</td>\n",
              "      <td>HDNAWQ3A</td>\n",
              "      <td>30</td>\n",
              "      <td>2021-11-12 19:00:00</td>\n",
              "      <td>ZTE</td>\n",
              "      <td>Blade A3 2020 RO B</td>\n",
              "      <td>26</td>\n",
              "      <td>1949.0</td>\n",
              "      <td>780.0</td>\n",
              "      <td>...</td>\n",
              "      <td>40.02</td>\n",
              "      <td>5000</td>\n",
              "      <td>26</td>\n",
              "      <td>72490</td>\n",
              "      <td>23.0</td>\n",
              "      <td>0</td>\n",
              "      <td>0</td>\n",
              "      <td>Tantoyuca</td>\n",
              "      <td>Veracruz</td>\n",
              "      <td>AEVM980413MVZNDR02</td>\n",
              "    </tr>\n",
              "    <tr>\n",
              "      <th>1</th>\n",
              "      <td>19.340039</td>\n",
              "      <td>4</td>\n",
              "      <td>M418YNR4</td>\n",
              "      <td>33</td>\n",
              "      <td>2021-11-12 19:15:00</td>\n",
              "      <td>MOTOROLA</td>\n",
              "      <td>LTE XT2097-12 E7I POWER Azul</td>\n",
              "      <td>13</td>\n",
              "      <td>2999.0</td>\n",
              "      <td>1050.0</td>\n",
              "      <td>...</td>\n",
              "      <td>35.01</td>\n",
              "      <td>6000</td>\n",
              "      <td>13</td>\n",
              "      <td>72490</td>\n",
              "      <td>60.0</td>\n",
              "      <td>PUEBLA</td>\n",
              "      <td>PUE.</td>\n",
              "      <td>Heroica Puebla de Zaragoza</td>\n",
              "      <td>Puebla</td>\n",
              "      <td>ZALC610119MPLPRR07</td>\n",
              "    </tr>\n",
              "    <tr>\n",
              "      <th>2</th>\n",
              "      <td>20.265146</td>\n",
              "      <td>5</td>\n",
              "      <td>SZ7V3NZT</td>\n",
              "      <td>37</td>\n",
              "      <td>2021-11-13 14:13:00</td>\n",
              "      <td>ZTE</td>\n",
              "      <td>BLADE A3 2020 Gris</td>\n",
              "      <td>13</td>\n",
              "      <td>1959.0</td>\n",
              "      <td>490.0</td>\n",
              "      <td>...</td>\n",
              "      <td>25.01</td>\n",
              "      <td>0</td>\n",
              "      <td>74</td>\n",
              "      <td>72490</td>\n",
              "      <td>58.0</td>\n",
              "      <td>TANTOYUCA</td>\n",
              "      <td>VER.</td>\n",
              "      <td>0</td>\n",
              "      <td>0</td>\n",
              "      <td>0</td>\n",
              "    </tr>\n",
              "    <tr>\n",
              "      <th>3</th>\n",
              "      <td>22.350922</td>\n",
              "      <td>6</td>\n",
              "      <td>9I08UIQZ</td>\n",
              "      <td>38</td>\n",
              "      <td>2021-11-13 15:45:00</td>\n",
              "      <td>ZTE</td>\n",
              "      <td>BLADE A3 2020 Gris</td>\n",
              "      <td>13</td>\n",
              "      <td>1959.0</td>\n",
              "      <td>490.0</td>\n",
              "      <td>...</td>\n",
              "      <td>25.01</td>\n",
              "      <td>7000</td>\n",
              "      <td>13</td>\n",
              "      <td>72490</td>\n",
              "      <td>42.0</td>\n",
              "      <td>AMXTLAN PUE</td>\n",
              "      <td>0</td>\n",
              "      <td>Zacatlan</td>\n",
              "      <td>Puebla</td>\n",
              "      <td>SAMJ790115MPLNRS02</td>\n",
              "    </tr>\n",
              "    <tr>\n",
              "      <th>4</th>\n",
              "      <td>35.528605</td>\n",
              "      <td>7</td>\n",
              "      <td>JMF4LKYU</td>\n",
              "      <td>44</td>\n",
              "      <td>2021-11-13 16:10:00</td>\n",
              "      <td>MOTOROLA</td>\n",
              "      <td>G10 B</td>\n",
              "      <td>39</td>\n",
              "      <td>4299.0</td>\n",
              "      <td>1075.0</td>\n",
              "      <td>...</td>\n",
              "      <td>25.01</td>\n",
              "      <td>7000</td>\n",
              "      <td>74</td>\n",
              "      <td>72490</td>\n",
              "      <td>33.0</td>\n",
              "      <td>TANTOYUCA</td>\n",
              "      <td>VER.</td>\n",
              "      <td>Tantoyuca</td>\n",
              "      <td>Veracruz</td>\n",
              "      <td>TEHF880707HVZRRR07</td>\n",
              "    </tr>\n",
              "    <tr>\n",
              "      <th>...</th>\n",
              "      <td>...</td>\n",
              "      <td>...</td>\n",
              "      <td>...</td>\n",
              "      <td>...</td>\n",
              "      <td>...</td>\n",
              "      <td>...</td>\n",
              "      <td>...</td>\n",
              "      <td>...</td>\n",
              "      <td>...</td>\n",
              "      <td>...</td>\n",
              "      <td>...</td>\n",
              "      <td>...</td>\n",
              "      <td>...</td>\n",
              "      <td>...</td>\n",
              "      <td>...</td>\n",
              "      <td>...</td>\n",
              "      <td>...</td>\n",
              "      <td>...</td>\n",
              "      <td>...</td>\n",
              "      <td>...</td>\n",
              "      <td>...</td>\n",
              "    </tr>\n",
              "    <tr>\n",
              "      <th>22730</th>\n",
              "      <td>27.982498</td>\n",
              "      <td>22967</td>\n",
              "      <td>92KQVRIX</td>\n",
              "      <td>96502</td>\n",
              "      <td>2023-04-18 18:45:00</td>\n",
              "      <td>Motorola</td>\n",
              "      <td>Moto E13</td>\n",
              "      <td>26</td>\n",
              "      <td>3349.0</td>\n",
              "      <td>297.0</td>\n",
              "      <td>...</td>\n",
              "      <td>8.87</td>\n",
              "      <td>10000</td>\n",
              "      <td>0</td>\n",
              "      <td>97880</td>\n",
              "      <td>35.9</td>\n",
              "      <td>0</td>\n",
              "      <td>YUC</td>\n",
              "      <td>Oxkutzcab</td>\n",
              "      <td>Yucatan</td>\n",
              "      <td>PACT990804MYNCCH05</td>\n",
              "    </tr>\n",
              "    <tr>\n",
              "      <th>22731</th>\n",
              "      <td>25.340753</td>\n",
              "      <td>22968</td>\n",
              "      <td>NWB2EA8J</td>\n",
              "      <td>96479</td>\n",
              "      <td>2023-04-18 18:46:00</td>\n",
              "      <td>Motorola</td>\n",
              "      <td>Moto E22i</td>\n",
              "      <td>26</td>\n",
              "      <td>4100.0</td>\n",
              "      <td>1209.0</td>\n",
              "      <td>...</td>\n",
              "      <td>29.49</td>\n",
              "      <td>5000</td>\n",
              "      <td>0</td>\n",
              "      <td>37295</td>\n",
              "      <td>35.9</td>\n",
              "      <td>0</td>\n",
              "      <td>GTO</td>\n",
              "      <td>Leon</td>\n",
              "      <td>Guanajuato</td>\n",
              "      <td>HEGB950620MGTRMN03</td>\n",
              "    </tr>\n",
              "    <tr>\n",
              "      <th>22732</th>\n",
              "      <td>22.882306</td>\n",
              "      <td>22969</td>\n",
              "      <td>VDTRJ2W6</td>\n",
              "      <td>96442</td>\n",
              "      <td>2023-04-18 18:47:00</td>\n",
              "      <td>Samsung</td>\n",
              "      <td>A13</td>\n",
              "      <td>26</td>\n",
              "      <td>4849.0</td>\n",
              "      <td>1152.0</td>\n",
              "      <td>...</td>\n",
              "      <td>23.76</td>\n",
              "      <td>4750</td>\n",
              "      <td>0</td>\n",
              "      <td>20210</td>\n",
              "      <td>35.9</td>\n",
              "      <td>0</td>\n",
              "      <td>AGS</td>\n",
              "      <td>Aguascalientes</td>\n",
              "      <td>Aguascalientes</td>\n",
              "      <td>GADF870205HASLZL07</td>\n",
              "    </tr>\n",
              "    <tr>\n",
              "      <th>22733</th>\n",
              "      <td>19.725170</td>\n",
              "      <td>22970</td>\n",
              "      <td>PETLF56C</td>\n",
              "      <td>96536</td>\n",
              "      <td>2023-04-18 18:49:00</td>\n",
              "      <td>Samsung</td>\n",
              "      <td>A53 5G</td>\n",
              "      <td>39</td>\n",
              "      <td>9799.0</td>\n",
              "      <td>2799.0</td>\n",
              "      <td>...</td>\n",
              "      <td>28.56</td>\n",
              "      <td>7000</td>\n",
              "      <td>0</td>\n",
              "      <td>78434</td>\n",
              "      <td>35.9</td>\n",
              "      <td>0</td>\n",
              "      <td>SLP</td>\n",
              "      <td>Soledad De Graciano Sanchez</td>\n",
              "      <td>San Luis Potosi</td>\n",
              "      <td>DELJ700417HSPLRS03</td>\n",
              "    </tr>\n",
              "    <tr>\n",
              "      <th>22734</th>\n",
              "      <td>20.051259</td>\n",
              "      <td>22971</td>\n",
              "      <td>2CI4N2WS</td>\n",
              "      <td>96534</td>\n",
              "      <td>2023-04-18 18:49:00</td>\n",
              "      <td>Samsung</td>\n",
              "      <td>A22 5G</td>\n",
              "      <td>26</td>\n",
              "      <td>5399.0</td>\n",
              "      <td>1086.0</td>\n",
              "      <td>...</td>\n",
              "      <td>20.11</td>\n",
              "      <td>4750</td>\n",
              "      <td>0</td>\n",
              "      <td>43800</td>\n",
              "      <td>35.9</td>\n",
              "      <td>0</td>\n",
              "      <td>HGO</td>\n",
              "      <td>San Jose Del Cabo</td>\n",
              "      <td>Baja California Sur</td>\n",
              "      <td>RASI030731HDFMRSA1</td>\n",
              "    </tr>\n",
              "  </tbody>\n",
              "</table>\n",
              "<p>22735 rows × 40 columns</p>\n",
              "</div>"
            ],
            "text/plain": [
              "       Predicciones  folio       tag  folio_solicitud               fecha  \\\n",
              "0         26.562505      3  HDNAWQ3A               30 2021-11-12 19:00:00   \n",
              "1         19.340039      4  M418YNR4               33 2021-11-12 19:15:00   \n",
              "2         20.265146      5  SZ7V3NZT               37 2021-11-13 14:13:00   \n",
              "3         22.350922      6  9I08UIQZ               38 2021-11-13 15:45:00   \n",
              "4         35.528605      7  JMF4LKYU               44 2021-11-13 16:10:00   \n",
              "...             ...    ...       ...              ...                 ...   \n",
              "22730     27.982498  22967  92KQVRIX            96502 2023-04-18 18:45:00   \n",
              "22731     25.340753  22968  NWB2EA8J            96479 2023-04-18 18:46:00   \n",
              "22732     22.882306  22969  VDTRJ2W6            96442 2023-04-18 18:47:00   \n",
              "22733     19.725170  22970  PETLF56C            96536 2023-04-18 18:49:00   \n",
              "22734     20.051259  22971  2CI4N2WS            96534 2023-04-18 18:49:00   \n",
              "\n",
              "          marca                        modelo  plazo  precio  enganche  ...  \\\n",
              "0           ZTE            Blade A3 2020 RO B     26  1949.0     780.0  ...   \n",
              "1      MOTOROLA  LTE XT2097-12 E7I POWER Azul     13  2999.0    1050.0  ...   \n",
              "2           ZTE            BLADE A3 2020 Gris     13  1959.0     490.0  ...   \n",
              "3           ZTE            BLADE A3 2020 Gris     13  1959.0     490.0  ...   \n",
              "4      MOTOROLA                         G10 B     39  4299.0    1075.0  ...   \n",
              "...         ...                           ...    ...     ...       ...  ...   \n",
              "22730  Motorola                      Moto E13     26  3349.0     297.0  ...   \n",
              "22731  Motorola                     Moto E22i     26  4100.0    1209.0  ...   \n",
              "22732   Samsung                           A13     26  4849.0    1152.0  ...   \n",
              "22733   Samsung                        A53 5G     39  9799.0    2799.0  ...   \n",
              "22734   Samsung                        A22 5G     26  5399.0    1086.0  ...   \n",
              "\n",
              "       porc_eng  limite_credito  semana_actual  cp_cliente  edad_cliente  \\\n",
              "0         40.02            5000             26       72490          23.0   \n",
              "1         35.01            6000             13       72490          60.0   \n",
              "2         25.01               0             74       72490          58.0   \n",
              "3         25.01            7000             13       72490          42.0   \n",
              "4         25.01            7000             74       72490          33.0   \n",
              "...         ...             ...            ...         ...           ...   \n",
              "22730      8.87           10000              0       97880          35.9   \n",
              "22731     29.49            5000              0       37295          35.9   \n",
              "22732     23.76            4750              0       20210          35.9   \n",
              "22733     28.56            7000              0       78434          35.9   \n",
              "22734     20.11            4750              0       43800          35.9   \n",
              "\n",
              "        cd_cliente edo_cliente                     cd_venta  \\\n",
              "0                0           0                    Tantoyuca   \n",
              "1          PUEBLA         PUE.   Heroica Puebla de Zaragoza   \n",
              "2        TANTOYUCA        VER.                            0   \n",
              "3      AMXTLAN PUE           0                     Zacatlan   \n",
              "4       TANTOYUCA         VER.                    Tantoyuca   \n",
              "...            ...         ...                          ...   \n",
              "22730            0         YUC                    Oxkutzcab   \n",
              "22731            0         GTO                         Leon   \n",
              "22732            0         AGS               Aguascalientes   \n",
              "22733            0         SLP  Soledad De Graciano Sanchez   \n",
              "22734            0         HGO            San Jose Del Cabo   \n",
              "\n",
              "                 edo_venta                curp  \n",
              "0                 Veracruz  AEVM980413MVZNDR02  \n",
              "1                   Puebla  ZALC610119MPLPRR07  \n",
              "2                        0                   0  \n",
              "3                   Puebla  SAMJ790115MPLNRS02  \n",
              "4                 Veracruz  TEHF880707HVZRRR07  \n",
              "...                    ...                 ...  \n",
              "22730              Yucatan  PACT990804MYNCCH05  \n",
              "22731           Guanajuato  HEGB950620MGTRMN03  \n",
              "22732       Aguascalientes  GADF870205HASLZL07  \n",
              "22733      San Luis Potosi  DELJ700417HSPLRS03  \n",
              "22734  Baja California Sur  RASI030731HDFMRSA1  \n",
              "\n",
              "[22735 rows x 40 columns]"
            ]
          },
          "execution_count": 46,
          "metadata": {},
          "output_type": "execute_result"
        }
      ],
      "source": [
        "#Insertamos la columna de predicciones en el DataFrame\n",
        "credicel4.insert(0, 'Predicciones', y_pred_3)\n",
        "credicel4"
      ]
    },
    {
      "cell_type": "code",
      "execution_count": 47,
      "metadata": {
        "colab": {
          "base_uri": "https://localhost:8080/",
          "height": 564
        },
        "id": "2efwB2ng_qpJ",
        "outputId": "bd724086-659c-487b-9b17-8ea38d46058c"
      },
      "outputs": [
        {
          "data": {
            "image/png": "[encoded data removed]",
            "text/plain": [
              "<Figure size 1000x600 with 1 Axes>"
            ]
          },
          "metadata": {},
          "output_type": "display_data"
        }
      ],
      "source": [
        "#Visualizamos la gráfica comparativa entre el total real y el total predecido\n",
        "plt.figure(figsize=(10, 6))\n",
        "sns.scatterplot(data=credicel4, x='status', y='plazo', color='blue', s=100)\n",
        "sns.scatterplot(data=credicel4, x='status', y='Predicciones', color='red', s=100)\n",
        "plt.title('Predicciones vs Real')\n",
        "plt.xlabel('Status')\n",
        "plt.ylabel('Plazo')\n",
        "plt.grid(True)\n",
        "plt.show()"
      ]
    },
    {
      "cell_type": "code",
      "execution_count": 48,
      "metadata": {
        "colab": {
          "base_uri": "https://localhost:8080/",
          "height": 564
        },
        "id": "VFL_HnMA_2tF",
        "outputId": "f0cd5bef-ce30-4d10-fd8a-50df2cb5625a"
      },
      "outputs": [
        {
          "data": {
            "image/png": "[encoded data removed]",
            "text/plain": [
              "<Figure size 1000x600 with 1 Axes>"
            ]
          },
          "metadata": {},
          "output_type": "display_data"
        }
      ],
      "source": [
        "#Visualizamos la gráfica comparativa entre el total real y el total predecido\n",
        "plt.figure(figsize=(10, 6))\n",
        "sns.scatterplot(data=credicel4, x='reautorizacion', y='plazo', color='blue', s=100)\n",
        "sns.scatterplot(data=credicel4, x='reautorizacion', y='Predicciones', color='red', s=100)\n",
        "plt.title('Predicciones vs Real')\n",
        "plt.xlabel('Reautorización')\n",
        "plt.ylabel('Plazo')\n",
        "plt.grid(True)\n",
        "plt.show()"
      ]
    }
  ],
  "metadata": {
    "colab": {
      "provenance": []
    },
    "kernelspec": {
      "display_name": "Python 3",
      "name": "python3"
    },
    "language_info": {
      "codemirror_mode": {
        "name": "ipython",
        "version": 3
      },
      "file_extension": ".py",
      "mimetype": "text/x-python",
      "name": "python",
      "nbconvert_exporter": "python",
      "pygments_lexer": "ipython3",
      "version": "3.11.4"
    }
  },
  "nbformat": 4,
  "nbformat_minor": 0
}
